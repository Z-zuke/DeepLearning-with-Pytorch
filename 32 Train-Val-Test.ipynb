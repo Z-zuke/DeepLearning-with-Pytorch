{
 "cells": [
  {
   "cell_type": "code",
   "execution_count": 1,
   "metadata": {
    "ExecuteTime": {
     "end_time": "2020-04-17T09:37:47.334255Z",
     "start_time": "2020-04-17T09:37:45.664254Z"
    }
   },
   "outputs": [],
   "source": [
    "import torch\n",
    "import torch.nn as nn\n",
    "import torch.nn.functional as F\n",
    "import torch.optim as optim\n",
    "from torchvision import datasets,transforms"
   ]
  },
  {
   "cell_type": "code",
   "execution_count": 2,
   "metadata": {
    "ExecuteTime": {
     "end_time": "2020-04-17T09:38:08.207187Z",
     "start_time": "2020-04-17T09:38:08.100780Z"
    }
   },
   "outputs": [
    {
     "name": "stdout",
     "output_type": "stream",
     "text": [
      "train: 60000 test: 10000\n"
     ]
    }
   ],
   "source": [
    "batch_size=200\n",
    "learning_rate=0.01\n",
    "epochs=10\n",
    "\n",
    "# 加载数据\n",
    "train_db=datasets.MNIST('./data/mnist_data',train=True,download=True,\n",
    "                  transform=transforms.Compose([\n",
    "                      transforms.ToTensor(),\n",
    "                      transforms.Normalize((0.1307,),(0.3081,))\n",
    "                  ]))\n",
    "# train_loader=torch.utils.data.DataLoader(train_db,batch_size=batch_size,shuffle=True)\n",
    "\n",
    "test_db=datasets.MNIST('./data/mnist_data',train=False,\n",
    "                  transform=transforms.Compose([\n",
    "                      transforms.ToTensor(),\n",
    "                      transforms.Normalize((0.1307,),(0.3081,))\n",
    "                  ]))\n",
    "test_loader=torch.utils.data.DataLoader(test_db,batch_size=batch_size,shuffle=True)\n",
    "print('train:',len(train_db),'test:',len(test_db))"
   ]
  },
  {
   "cell_type": "code",
   "execution_count": 3,
   "metadata": {
    "ExecuteTime": {
     "end_time": "2020-04-17T09:43:02.528121Z",
     "start_time": "2020-04-17T09:43:02.512164Z"
    }
   },
   "outputs": [
    {
     "name": "stdout",
     "output_type": "stream",
     "text": [
      "db1: 50000 db2: 10000\n"
     ]
    }
   ],
   "source": [
    "train_db,val_db=torch.utils.data.random_split(train_db,[50000,10000])\n",
    "print('db1:',len(train_db),'db2:',len(val_db))\n",
    "\n",
    "train_loader=torch.utils.data.DataLoader(train_db,batch_size=batch_size,shuffle=True)\n",
    "val_loader=torch.utils.data.DataLoader(val_db,batch_size=batch_size,shuffle=True)"
   ]
  },
  {
   "cell_type": "code",
   "execution_count": 5,
   "metadata": {
    "ExecuteTime": {
     "end_time": "2020-04-17T09:45:38.425348Z",
     "start_time": "2020-04-17T09:45:38.419364Z"
    },
    "code_folding": [
     14
    ]
   },
   "outputs": [],
   "source": [
    "class MLP(nn.Module):\n",
    "    \n",
    "    def __init__(self):\n",
    "        super(MLP,self).__init__()\n",
    "        \n",
    "        self.model=nn.Sequential(\n",
    "            nn.Linear(784,200),\n",
    "            nn.ReLU(inplace=True),\n",
    "            nn.Linear(200,200),\n",
    "            nn.ReLU(inplace=True),\n",
    "            nn.Linear(200,10),\n",
    "            nn.ReLU(inplace=True),\n",
    "        )\n",
    "        \n",
    "    def forward(self,x):\n",
    "        x=self.model(x)\n",
    "        return x"
   ]
  },
  {
   "cell_type": "code",
   "execution_count": 6,
   "metadata": {
    "ExecuteTime": {
     "end_time": "2020-04-17T09:47:54.848370Z",
     "start_time": "2020-04-17T09:45:40.206966Z"
    },
    "scrolled": true
   },
   "outputs": [
    {
     "name": "stdout",
     "output_type": "stream",
     "text": [
      "Train Epoch: 0 [0/50000 (0%)]\tLoss: 2.296748\n",
      "Train Epoch: 0 [20000/50000 (40%)]\tLoss: 1.949544\n",
      "Train Epoch: 0 [40000/50000 (80%)]\tLoss: 1.147922\n",
      "\n",
      "Val set: Average loss: 0.0045, Accuracy: 8050/10000 (80%)\n",
      "\n",
      "Train Epoch: 1 [0/50000 (0%)]\tLoss: 0.854956\n",
      "Train Epoch: 1 [20000/50000 (40%)]\tLoss: 0.673033\n",
      "Train Epoch: 1 [40000/50000 (80%)]\tLoss: 0.542316\n",
      "\n",
      "Val set: Average loss: 0.0024, Accuracy: 8673/10000 (87%)\n",
      "\n",
      "Train Epoch: 2 [0/50000 (0%)]\tLoss: 0.473701\n",
      "Train Epoch: 2 [20000/50000 (40%)]\tLoss: 0.369894\n",
      "Train Epoch: 2 [40000/50000 (80%)]\tLoss: 0.349003\n",
      "\n",
      "Val set: Average loss: 0.0020, Accuracy: 8866/10000 (89%)\n",
      "\n",
      "Train Epoch: 3 [0/50000 (0%)]\tLoss: 0.381842\n",
      "Train Epoch: 3 [20000/50000 (40%)]\tLoss: 0.418252\n",
      "Train Epoch: 3 [40000/50000 (80%)]\tLoss: 0.379919\n",
      "\n",
      "Val set: Average loss: 0.0018, Accuracy: 8965/10000 (90%)\n",
      "\n",
      "Train Epoch: 4 [0/50000 (0%)]\tLoss: 0.320078\n",
      "Train Epoch: 4 [20000/50000 (40%)]\tLoss: 0.246844\n",
      "Train Epoch: 4 [40000/50000 (80%)]\tLoss: 0.350632\n",
      "\n",
      "Val set: Average loss: 0.0017, Accuracy: 9044/10000 (90%)\n",
      "\n",
      "Train Epoch: 5 [0/50000 (0%)]\tLoss: 0.331928\n",
      "Train Epoch: 5 [20000/50000 (40%)]\tLoss: 0.371986\n",
      "Train Epoch: 5 [40000/50000 (80%)]\tLoss: 0.267722\n",
      "\n",
      "Val set: Average loss: 0.0016, Accuracy: 9082/10000 (91%)\n",
      "\n",
      "Train Epoch: 6 [0/50000 (0%)]\tLoss: 0.291566\n",
      "Train Epoch: 6 [20000/50000 (40%)]\tLoss: 0.315444\n",
      "Train Epoch: 6 [40000/50000 (80%)]\tLoss: 0.179315\n",
      "\n",
      "Val set: Average loss: 0.0015, Accuracy: 9112/10000 (91%)\n",
      "\n",
      "Train Epoch: 7 [0/50000 (0%)]\tLoss: 0.182265\n",
      "Train Epoch: 7 [20000/50000 (40%)]\tLoss: 0.269705\n",
      "Train Epoch: 7 [40000/50000 (80%)]\tLoss: 0.357029\n",
      "\n",
      "Val set: Average loss: 0.0014, Accuracy: 9172/10000 (92%)\n",
      "\n",
      "Train Epoch: 8 [0/50000 (0%)]\tLoss: 0.242013\n",
      "Train Epoch: 8 [20000/50000 (40%)]\tLoss: 0.321801\n",
      "Train Epoch: 8 [40000/50000 (80%)]\tLoss: 0.213134\n",
      "\n",
      "Val set: Average loss: 0.0013, Accuracy: 9211/10000 (92%)\n",
      "\n",
      "Train Epoch: 9 [0/50000 (0%)]\tLoss: 0.292857\n",
      "Train Epoch: 9 [20000/50000 (40%)]\tLoss: 0.265447\n",
      "Train Epoch: 9 [40000/50000 (80%)]\tLoss: 0.289715\n",
      "\n",
      "Val set: Average loss: 0.0013, Accuracy: 9232/10000 (92%)\n",
      "\n"
     ]
    }
   ],
   "source": [
    "device=torch.device('cuda:0')\n",
    "net=MLP().to(device)\n",
    "optimizer=optim.SGD(net.parameters(),lr=learning_rate)\n",
    "criteon=nn.CrossEntropyLoss().to(device)\n",
    "\n",
    "for epoch in range(epochs):\n",
    "    \n",
    "    for batch_idx,(data,target) in enumerate(train_loader):\n",
    "        data=data.view(-1,28*28)\n",
    "        data,target=data.to(device),target.to(device)\n",
    "        \n",
    "        logits=net(data)\n",
    "        loss=criteon(logits,target)\n",
    "        \n",
    "        optimizer.zero_grad()\n",
    "        loss.backward()\n",
    "        optimizer.step()\n",
    "        \n",
    "        if batch_idx % 100 ==0: \n",
    "            print('Train Epoch: {} [{}/{} ({:.0f}%)]\\tLoss: {:.6f}'.format(\n",
    "                epoch, batch_idx * len(data), len(train_loader.dataset),\n",
    "                       100. * batch_idx / len(train_loader), loss.item()))\n",
    "            \n",
    "    val_loss=0 \n",
    "    correct=0 \n",
    "    for data,target in val_loader:\n",
    "        data=data.view(-1,28*28)\n",
    "        data,target=data.to(device),target.to(device)\n",
    "        \n",
    "        logits=net(data)\n",
    "        val_loss+=criteon(logits,target).item()\n",
    "        \n",
    "        pred=logits.argmax(dim=1)\n",
    "        correct+=pred.eq(target.data).sum()\n",
    "        \n",
    "    val_loss /= len(val_loader.dataset)\n",
    "    print('Val set: Average loss: {:.4f}, Accuracy: {}/{} ({:.0f}%)\\n'.format(\n",
    "        val_loss, correct, len(val_loader.dataset),\n",
    "        100. * correct / len(val_loader.dataset)))"
   ]
  },
  {
   "cell_type": "code",
   "execution_count": 7,
   "metadata": {
    "ExecuteTime": {
     "end_time": "2020-04-17T09:49:25.303274Z",
     "start_time": "2020-04-17T09:49:23.553927Z"
    }
   },
   "outputs": [
    {
     "name": "stdout",
     "output_type": "stream",
     "text": [
      "\n",
      "Test set: Average loss: 0.0012, Accuracy: 9320/10000 (93%)\n",
      "\n"
     ]
    }
   ],
   "source": [
    "test_loss = 0\n",
    "correct = 0\n",
    "for data, target in test_loader:\n",
    "    data = data.view(-1, 28 * 28)\n",
    "    data, target = data.to(device), target.cuda()\n",
    "    logits = net(data)\n",
    "    test_loss += criteon(logits, target).item()\n",
    "\n",
    "    pred = logits.data.max(1)[1]\n",
    "    correct += pred.eq(target.data).sum()\n",
    "\n",
    "test_loss /= len(test_loader.dataset)\n",
    "print('\\nTest set: Average loss: {:.4f}, Accuracy: {}/{} ({:.0f}%)\\n'.format(\n",
    "    test_loss, correct, len(test_loader.dataset),\n",
    "    100. * correct / len(test_loader.dataset)))"
   ]
  }
 ],
 "metadata": {
  "kernelspec": {
   "display_name": "Python 3",
   "language": "python",
   "name": "python3"
  },
  "language_info": {
   "codemirror_mode": {
    "name": "ipython",
    "version": 3
   },
   "file_extension": ".py",
   "mimetype": "text/x-python",
   "name": "python",
   "nbconvert_exporter": "python",
   "pygments_lexer": "ipython3",
   "version": "3.6.10"
  }
 },
 "nbformat": 4,
 "nbformat_minor": 4
}
