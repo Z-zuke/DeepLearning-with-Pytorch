{
 "cells": [
  {
   "cell_type": "code",
   "execution_count": 1,
   "metadata": {
    "ExecuteTime": {
     "end_time": "2020-04-19T02:59:40.085337Z",
     "start_time": "2020-04-19T02:59:40.075398Z"
    }
   },
   "outputs": [],
   "source": [
    "import torch\n",
    "from torch import nn\n",
    "from torch.nn import functional as F "
   ]
  },
  {
   "cell_type": "code",
   "execution_count": 5,
   "metadata": {
    "ExecuteTime": {
     "end_time": "2020-04-19T03:18:51.131051Z",
     "start_time": "2020-04-19T03:18:51.121407Z"
    }
   },
   "outputs": [],
   "source": [
    "class Lenet5(nn.Module):\n",
    "    \n",
    "    def __init__(self):\n",
    "        super(Lenet5,self).__init__()\n",
    "        \n",
    "        self.conv_unit=nn.Sequential(\n",
    "            # x: [b,3,32,32] => [b,16,28,28]\n",
    "            nn.Conv2d(3,16,kernel_size=5,stride=1,padding=0),\n",
    "            # x: [b,16,28,28] => [b,16,14,14]\n",
    "            nn.MaxPool2d(kernel_size=2,stride=2,padding=0),\n",
    "            # x: [b,16,14,14] => [b,32,10,10]\n",
    "            nn.Conv2d(16,32,kernel_size=5,stride=1,padding=0),\n",
    "            # x: [b,32,10,10] => [b,32,5,5]\n",
    "            nn.MaxPool2d(kernel_size=2,stride=2,padding=0)\n",
    "        )\n",
    "        # fully connect unit\n",
    "        self.fc_unit=nn.Sequential(\n",
    "            nn.Linear(32*5*5,32),\n",
    "            nn.ReLU(),\n",
    "            nn.Linear(32,10)\n",
    "        )\n",
    "        \n",
    "    def forward(self,x):\n",
    "        batchsz=x.size(0)\n",
    "        # [b,3,32,32] => [b,32,5,5]\n",
    "        x=self.conv_unit(x)\n",
    "        # [b,32,5,5] => [b,16*5*5] flatten\n",
    "        x=x.view(batchsz,-1)\n",
    "        # [b,32*5*5] => [b,10]\n",
    "        logits=self.fc_unit(x)\n",
    "        \n",
    "        return logits"
   ]
  },
  {
   "cell_type": "code",
   "execution_count": 6,
   "metadata": {
    "ExecuteTime": {
     "end_time": "2020-04-19T03:19:50.643623Z",
     "start_time": "2020-04-19T03:19:50.636473Z"
    }
   },
   "outputs": [],
   "source": [
    "def main():\n",
    "    net=Lenet5()\n",
    "    \n",
    "    tmp=torch.randn(2,3,32,32)\n",
    "    out=net(tmp)\n",
    "    print('lenet out:',out.shape)"
   ]
  },
  {
   "cell_type": "code",
   "execution_count": 7,
   "metadata": {
    "ExecuteTime": {
     "end_time": "2020-04-19T03:19:51.784147Z",
     "start_time": "2020-04-19T03:19:51.764240Z"
    }
   },
   "outputs": [
    {
     "name": "stdout",
     "output_type": "stream",
     "text": [
      "lenet out: torch.Size([2, 10])\n"
     ]
    }
   ],
   "source": [
    "if __name__=='__main__':\n",
    "    main()"
   ]
  }
 ],
 "metadata": {
  "kernelspec": {
   "display_name": "Python 3",
   "language": "python",
   "name": "python3"
  },
  "language_info": {
   "codemirror_mode": {
    "name": "ipython",
    "version": 3
   },
   "file_extension": ".py",
   "mimetype": "text/x-python",
   "name": "python",
   "nbconvert_exporter": "python",
   "pygments_lexer": "ipython3",
   "version": "3.6.10"
  }
 },
 "nbformat": 4,
 "nbformat_minor": 4
}
