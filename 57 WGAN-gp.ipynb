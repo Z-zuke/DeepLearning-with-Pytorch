{
 "cells": [
  {
   "cell_type": "code",
   "execution_count": null,
   "metadata": {
    "ExecuteTime": {
     "end_time": "2020-04-23T03:44:15.441283Z",
     "start_time": "2020-04-23T03:44:14.630331Z"
    }
   },
   "outputs": [],
   "source": [
    "import numpy as np\n",
    "import torch\n",
    "from torch import nn,optim,autograd\n",
    "from torch.nn import functional as F \n",
    "import visdom\n",
    "import random\n",
    "from matplotlib import pyplot as plt"
   ]
  },
  {
   "cell_type": "code",
   "execution_count": null,
   "metadata": {
    "ExecuteTime": {
     "end_time": "2020-04-23T03:44:20.575541Z",
     "start_time": "2020-04-23T03:44:15.443102Z"
    },
    "scrolled": true
   },
   "outputs": [],
   "source": [
    "h_dim=400\n",
    "batchsz=512\n",
    "viz=visdom.Visdom() "
   ]
  },
  {
   "cell_type": "code",
   "execution_count": null,
   "metadata": {
    "ExecuteTime": {
     "end_time": "2020-04-23T03:44:20.589008Z",
     "start_time": "2020-04-23T03:44:20.577434Z"
    }
   },
   "outputs": [],
   "source": [
    "class Generator(nn.Module):\n",
    "    \n",
    "    def __init__(self):\n",
    "        super(Generator,self).__init__()\n",
    "        \n",
    "        self.net=nn.Sequential(\n",
    "            nn.Linear(2,h_dim),\n",
    "            nn.ReLU(True),\n",
    "            nn.Linear(h_dim,h_dim),\n",
    "            nn.ReLU(True),\n",
    "            nn.Linear(h_dim,h_dim),\n",
    "            nn.ReLU(True),\n",
    "            nn.Linear(h_dim,2)\n",
    "        )\n",
    "        \n",
    "    def forward(self,z):\n",
    "        output=self.net(z)\n",
    "        return output\n",
    "    \n",
    "    \n",
    "class Discriminator(nn.Module):\n",
    "    \n",
    "    def __init__(self):\n",
    "        super(Discriminator,self).__init__()\n",
    "        \n",
    "        self.net=nn.Sequential(\n",
    "            nn.Linear(2,h_dim),\n",
    "            nn.ReLU(True),\n",
    "            nn.Linear(h_dim,h_dim),\n",
    "            nn.ReLU(True),\n",
    "            nn.Linear(h_dim,h_dim),\n",
    "            nn.ReLU(True),\n",
    "            nn.Linear(h_dim,1),\n",
    "            nn.Sigmoid()\n",
    "        )\n",
    "        \n",
    "    def forward(self,x):\n",
    "        output=self.net(x)\n",
    "        return output.view(-1)"
   ]
  },
  {
   "cell_type": "code",
   "execution_count": null,
   "metadata": {
    "ExecuteTime": {
     "end_time": "2020-04-23T03:44:20.605391Z",
     "start_time": "2020-04-23T03:44:20.591366Z"
    }
   },
   "outputs": [],
   "source": [
    "def data_generator():\n",
    "    \n",
    "    scale =2. \n",
    "    centers = [\n",
    "        (1, 0),\n",
    "        (-1, 0),\n",
    "        (0, 1),\n",
    "        (0, -1),\n",
    "        (1. / np.sqrt(2), 1. / np.sqrt(2)),\n",
    "        (1. / np.sqrt(2), -1. / np.sqrt(2)),\n",
    "        (-1. / np.sqrt(2), 1. / np.sqrt(2)),\n",
    "        (-1. / np.sqrt(2), -1. / np.sqrt(2))\n",
    "    ]\n",
    "    centers = [(scale * x, scale * y) for x, y in centers]\n",
    "    while True:\n",
    "        dataset = []\n",
    "        for i in range(batchsz):\n",
    "            point = np.random.randn(2) * .02\n",
    "            center = random.choice(centers)\n",
    "            point[0] += center[0]\n",
    "            point[1] += center[1]\n",
    "            dataset.append(point)\n",
    "        dataset = np.array(dataset, dtype='float32')\n",
    "        dataset /= 1.414  # stdev\n",
    "        yield dataset"
   ]
  },
  {
   "cell_type": "code",
   "execution_count": null,
   "metadata": {
    "ExecuteTime": {
     "end_time": "2020-04-23T03:44:20.616299Z",
     "start_time": "2020-04-23T03:44:20.606325Z"
    }
   },
   "outputs": [],
   "source": [
    "def generate_image(D, G, xr, epoch):\n",
    "    \"\"\"\n",
    "    Generates and saves a plot of the true distribution, the generator, and the\n",
    "    critic.\n",
    "    \"\"\"\n",
    "    N_POINTS = 128\n",
    "    RANGE = 3\n",
    "    plt.clf()\n",
    "\n",
    "    points = np.zeros((N_POINTS, N_POINTS, 2), dtype='float32')\n",
    "    points[:, :, 0] = np.linspace(-RANGE, RANGE, N_POINTS)[:, None]\n",
    "    points[:, :, 1] = np.linspace(-RANGE, RANGE, N_POINTS)[None, :]\n",
    "    points = points.reshape((-1, 2))\n",
    "    # (16384, 2)\n",
    "    # print('p:', points.shape)\n",
    "\n",
    "    # draw contour\n",
    "    with torch.no_grad():\n",
    "        points = torch.Tensor(points).cuda() # [16384, 2]\n",
    "        disc_map = D(points).cpu().numpy() # [16384]\n",
    "    x = y = np.linspace(-RANGE, RANGE, N_POINTS)\n",
    "    cs = plt.contour(x, y, disc_map.reshape((len(x), len(y))).transpose())\n",
    "    plt.clabel(cs, inline=1, fontsize=10)\n",
    "    # plt.colorbar()\n",
    "\n",
    "\n",
    "    # draw samples\n",
    "    with torch.no_grad():\n",
    "        z = torch.randn(batchsz, 2).cuda() # [b, 2]\n",
    "        samples = G(z).cpu().numpy() # [b, 2]\n",
    "    plt.scatter(xr[:, 0].cpu().numpy(), xr[:, 1].cpu().numpy(), c='orange', marker='.')\n",
    "    plt.scatter(samples[:, 0], samples[:, 1], c='green', marker='+')\n",
    "\n",
    "    viz.matplot(plt, win='contour', opts=dict(title='p(x):%d'%epoch))"
   ]
  },
  {
   "cell_type": "code",
   "execution_count": null,
   "metadata": {
    "ExecuteTime": {
     "end_time": "2020-04-23T03:44:20.626272Z",
     "start_time": "2020-04-23T03:44:20.617296Z"
    }
   },
   "outputs": [],
   "source": [
    "def weight_init(m):\n",
    "    \n",
    "    if isinstance(m,nn.Linear):\n",
    "        # m.weight.data.normal_(0.0,0.02)\n",
    "        nn.init.kaiming_normal_(m.weight)\n",
    "        m.bias.data.fill_(0)"
   ]
  },
  {
   "cell_type": "code",
   "execution_count": null,
   "metadata": {
    "ExecuteTime": {
     "end_time": "2020-04-23T03:44:20.637325Z",
     "start_time": "2020-04-23T03:44:20.627327Z"
    }
   },
   "outputs": [],
   "source": [
    "def gradient_penalty(D,xr,xf):\n",
    "    \"\"\"\n",
    "    param D: \n",
    "    param xr: [b,2]\n",
    "    param xf: [b,2]\n",
    "    return:\n",
    "    \"\"\"\n",
    "    LAMBDA = 0.3\n",
    "    \n",
    "    # only constrait for Discriminator\n",
    "    xf=xf.detach()\n",
    "    xr=xr.detach()\n",
    "    \n",
    "    # [b,1] => [b,2]\n",
    "    alpha=torch.rand(batchsz,1).cuda()\n",
    "    alpha=alpha.expand_as(xr)\n",
    "    \n",
    "    interpolates = alpha*xr+((1-alpha)*xf)\n",
    "    interpolates.requires_grad_()  # set it require gradient\n",
    "    \n",
    "    disc_interpolates=D(interpolates)  # predict\n",
    "    \n",
    "    gradients=autograd.grad(outputs=disc_interpolates,inputs=interpolates,\n",
    "                          grad_outputs=torch.ones_like(disc_interpolates),\n",
    "                          create_graph=True,retain_graph=True,only_inputs=True)[0]\n",
    "    \n",
    "    gp=((gradients.norm(2,dim=1) -1)**2).mean() * LAMBDA\n",
    "    \n",
    "    return gp"
   ]
  },
  {
   "cell_type": "code",
   "execution_count": null,
   "metadata": {
    "ExecuteTime": {
     "end_time": "2020-04-23T03:44:20.650208Z",
     "start_time": "2020-04-23T03:44:20.639238Z"
    }
   },
   "outputs": [],
   "source": [
    "def main():\n",
    "    torch.manual_seed(23)\n",
    "    np.random.seed(23)\n",
    "    \n",
    "    G=Generator().cuda()\n",
    "    D=Discriminator().cuda()\n",
    "    G.apply(weight_init)\n",
    "    D.apply(weight_init)\n",
    "    \n",
    "    optim_G=optim.Adam(G.parameters(),lr=1e-3,betas=(0.5,0.9))\n",
    "    optim_D=optim.Adam(D.parameters(),lr=1e-3,betas=(0.5,0.9))\n",
    "    \n",
    "    data_iter=data_generator()\n",
    "    print('batch:',next(data_iter).shape)\n",
    "    \n",
    "    viz.line([[0,0]],[0],win='loss',opts=dict(title='loss',legend=['D','G']))\n",
    "    \n",
    "    for epoch in range(2000):\n",
    "        \n",
    "        # 1.train discriminator for k steps\n",
    "        for _ in range(5):\n",
    "            x=next(data_iter)\n",
    "            xr=torch.from_numpy(x).cuda()\n",
    "            \n",
    "            # [b]\n",
    "            predr=(D(xr))\n",
    "            # max log(lossr)\n",
    "            lossr= -(predr.mean())\n",
    "            \n",
    "            # train on fake data\n",
    "            # [b,2]\n",
    "            z=torch.randn(batchsz,2).cuda()\n",
    "            # stop gradient on G\n",
    "            # [b,2]\n",
    "            xf=G(z).detach() # stop gradient\n",
    "            # [b]\n",
    "            predf=(D(xf))\n",
    "            # min predf\n",
    "            lossf=(predf.mean())\n",
    "            \n",
    "            # gradient penalty\n",
    "            gp=gradient_penalty(D,xr,xf)\n",
    "            # aggregate all\n",
    "            loss_D=lossr+lossf+gp \n",
    "            \n",
    "            optim_D.zero_grad()\n",
    "            loss_D.backward()\n",
    "            optim_D.step()\n",
    "            \n",
    "        # 2.train Genarator\n",
    "        z=torch.randn(batchsz,2).cuda()\n",
    "        xf=G(z)\n",
    "        predf=(D(xf))\n",
    "        # max predf\n",
    "        loss_G= -(predf.mean())\n",
    "        optim_G.zero_grad()\n",
    "        loss_G.backward()\n",
    "        optim_G.step()\n",
    "            \n",
    "        if epoch % 100 ==0: \n",
    "            viz.line([[loss_D.item(),loss_G.item()]],[epoch],win='loss',update='append')\n",
    "            generate_image(D,G,xr,epoch)\n",
    "            \n",
    "            print(loss_D.item(),loss_G.item())"
   ]
  },
  {
   "cell_type": "code",
   "execution_count": null,
   "metadata": {
    "ExecuteTime": {
     "end_time": "2020-04-23T03:46:16.022381Z",
     "start_time": "2020-04-23T03:44:20.651205Z"
    },
    "scrolled": true
   },
   "outputs": [],
   "source": [
    "if __name__=='__main__':\n",
    "    main()"
   ]
  }
 ],
 "metadata": {
  "kernelspec": {
   "display_name": "Python 3",
   "language": "python",
   "name": "python3"
  },
  "language_info": {
   "codemirror_mode": {
    "name": "ipython",
    "version": 3
   },
   "file_extension": ".py",
   "mimetype": "text/x-python",
   "name": "python",
   "nbconvert_exporter": "python",
   "pygments_lexer": "ipython3",
   "version": "3.6.10"
  }
 },
 "nbformat": 4,
 "nbformat_minor": 4
}
