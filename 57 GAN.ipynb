{
 "cells": [
  {
   "cell_type": "code",
   "execution_count": 1,
   "metadata": {
    "ExecuteTime": {
     "end_time": "2020-04-23T03:04:08.751126Z",
     "start_time": "2020-04-23T03:04:08.002996Z"
    }
   },
   "outputs": [],
   "source": [
    "import numpy as np\n",
    "import torch\n",
    "from torch import nn,optim,autograd\n",
    "from torch.nn import functional as F \n",
    "import visdom\n",
    "import random\n",
    "from matplotlib import pyplot as plt"
   ]
  },
  {
   "cell_type": "code",
   "execution_count": 2,
   "metadata": {
    "ExecuteTime": {
     "end_time": "2020-04-23T03:04:08.874854Z",
     "start_time": "2020-04-23T03:04:08.753121Z"
    }
   },
   "outputs": [
    {
     "name": "stderr",
     "output_type": "stream",
     "text": [
      "Setting up a new session...\n"
     ]
    }
   ],
   "source": [
    "h_dim=400\n",
    "batchsz=512\n",
    "viz=visdom.Visdom() "
   ]
  },
  {
   "cell_type": "code",
   "execution_count": 3,
   "metadata": {
    "ExecuteTime": {
     "end_time": "2020-04-23T03:04:08.883772Z",
     "start_time": "2020-04-23T03:04:08.875820Z"
    }
   },
   "outputs": [],
   "source": [
    "class Generator(nn.Module):\n",
    "    \n",
    "    def __init__(self):\n",
    "        super(Generator,self).__init__()\n",
    "        \n",
    "        self.net=nn.Sequential(\n",
    "            nn.Linear(2,h_dim),\n",
    "            nn.ReLU(True),\n",
    "            nn.Linear(h_dim,h_dim),\n",
    "            nn.ReLU(True),\n",
    "            nn.Linear(h_dim,h_dim),\n",
    "            nn.ReLU(True),\n",
    "            nn.Linear(h_dim,2)\n",
    "        )\n",
    "        \n",
    "    def forward(self,z):\n",
    "        output=self.net(z)\n",
    "        return output\n",
    "    \n",
    "    \n",
    "class Discriminator(nn.Module):\n",
    "    \n",
    "    def __init__(self):\n",
    "        super(Discriminator,self).__init__()\n",
    "        \n",
    "        self.net=nn.Sequential(\n",
    "            nn.Linear(2,h_dim),\n",
    "            nn.ReLU(True),\n",
    "            nn.Linear(h_dim,h_dim),\n",
    "            nn.ReLU(True),\n",
    "            nn.Linear(h_dim,h_dim),\n",
    "            nn.ReLU(True),\n",
    "            nn.Linear(h_dim,1),\n",
    "            nn.Sigmoid()\n",
    "        )\n",
    "        \n",
    "    def forward(self,x):\n",
    "        output=self.net(x)\n",
    "        return output.view(-1)"
   ]
  },
  {
   "cell_type": "code",
   "execution_count": 4,
   "metadata": {
    "ExecuteTime": {
     "end_time": "2020-04-23T03:04:08.894776Z",
     "start_time": "2020-04-23T03:04:08.885766Z"
    }
   },
   "outputs": [],
   "source": [
    "def data_generator():\n",
    "    \n",
    "    scale =2. \n",
    "    centers = [\n",
    "        (1, 0),\n",
    "        (-1, 0),\n",
    "        (0, 1),\n",
    "        (0, -1),\n",
    "        (1. / np.sqrt(2), 1. / np.sqrt(2)),\n",
    "        (1. / np.sqrt(2), -1. / np.sqrt(2)),\n",
    "        (-1. / np.sqrt(2), 1. / np.sqrt(2)),\n",
    "        (-1. / np.sqrt(2), -1. / np.sqrt(2))\n",
    "    ]\n",
    "    centers = [(scale * x, scale * y) for x, y in centers]\n",
    "    while True:\n",
    "        dataset = []\n",
    "        for i in range(batchsz):\n",
    "            point = np.random.randn(2) * .02\n",
    "            center = random.choice(centers)\n",
    "            point[0] += center[0]\n",
    "            point[1] += center[1]\n",
    "            dataset.append(point)\n",
    "        dataset = np.array(dataset, dtype='float32')\n",
    "        dataset /= 1.414  # stdev\n",
    "        yield dataset"
   ]
  },
  {
   "cell_type": "code",
   "execution_count": 6,
   "metadata": {
    "ExecuteTime": {
     "end_time": "2020-04-23T03:04:08.916712Z",
     "start_time": "2020-04-23T03:04:08.907707Z"
    }
   },
   "outputs": [],
   "source": [
    "def weight_init(m):\n",
    "    \n",
    "    if isinstance(m,nn.Linear):\n",
    "        # m.weight.data.normal_(0.0,0.02)\n",
    "        nn.init.kaiming_normal_(m.weight)\n",
    "        m.bias.data.fill_(0)"
   ]
  },
  {
   "cell_type": "code",
   "execution_count": 7,
   "metadata": {
    "ExecuteTime": {
     "end_time": "2020-04-23T03:04:08.938633Z",
     "start_time": "2020-04-23T03:04:08.918678Z"
    }
   },
   "outputs": [],
   "source": [
    "def main():\n",
    "    torch.manual_seed(23)\n",
    "    np.random.seed(23)\n",
    "    \n",
    "    G=Generator().cuda()\n",
    "    D=Discriminator().cuda()\n",
    "    G.apply(weight_init)\n",
    "    D.apply(weight_init)\n",
    "    \n",
    "    optim_G=optim.Adam(G.parameters(),lr=1e-3,betas=(0.5,0.9))\n",
    "    optim_D=optim.Adam(D.parameters(),lr=1e-3,betas=(0.5,0.9))\n",
    "    \n",
    "    data_iter=data_generator()\n",
    "    print('batch:',next(data_iter).shape)\n",
    "    \n",
    "    viz.line([[0,0]],[0],win='loss',opts=dict(title='loss',legend=['D','G']))\n",
    "    \n",
    "    for epoch in range(50000):\n",
    "        \n",
    "        # 1.train discriminator for k steps\n",
    "        for _ in range(5):\n",
    "            x=next(data_iter)\n",
    "            xr=torch.from_numpy(x).cuda()\n",
    "            \n",
    "            # [b]\n",
    "            predr=(D(xr))\n",
    "            # max log(lossr)\n",
    "            lossr= -(predr.mean())\n",
    "            \n",
    "            # train on fake data\n",
    "            # [b,2]\n",
    "            z=torch.randn(batchsz,2).cuda()\n",
    "            # stop gradient on G\n",
    "            # [b,2]\n",
    "            xf=G(z).detach() # stop gradient\n",
    "            # [b]\n",
    "            predf=(D(xf))\n",
    "            # min predf\n",
    "            lossf=(predf.mean())\n",
    "            \n",
    "            # aggregate all\n",
    "            loss_D=lossr+lossf\n",
    "            optim_D.zero_grad()\n",
    "            loss_D.backward()\n",
    "            optim_D.step()\n",
    "            \n",
    "        # 2.train Genarator\n",
    "        z=torch.randn(batchsz,2).cuda()\n",
    "        xf=G(z)\n",
    "        predf=(D(xf))\n",
    "        # max predf\n",
    "        loss_G= -(predf.mean())\n",
    "        optim_G.zero_grad()\n",
    "        loss_G.backward()\n",
    "        optim_G.step()\n",
    "            \n",
    "        if epoch % 100 ==0: \n",
    "            viz.line([[loss_D.item(),loss_G.item()]],[epoch],win='loss',update='append')\n",
    "            \n",
    "            print(loss_D.item(),loss_G.item())"
   ]
  },
  {
   "cell_type": "code",
   "execution_count": 8,
   "metadata": {
    "ExecuteTime": {
     "end_time": "2020-04-23T03:16:23.239912Z",
     "start_time": "2020-04-23T03:04:08.942630Z"
    },
    "scrolled": true
   },
   "outputs": [
    {
     "name": "stdout",
     "output_type": "stream",
     "text": [
      "batch: (512, 2)\n",
      "-0.4008290767669678 -0.3538018465042114\n",
      "5.960464477539063e-08 -0.9999996423721313\n",
      "0.0 -1.0\n",
      "0.0 -1.0\n",
      "0.0 -1.0\n",
      "0.0 -1.0\n",
      "0.0 -1.0\n",
      "0.0 -1.0\n",
      "0.0 -1.0\n",
      "0.0 -1.0\n",
      "0.0 -1.0\n",
      "0.0 -1.0\n",
      "0.0 -1.0\n",
      "0.0 -1.0\n",
      "0.0 -1.0\n",
      "0.0 -1.0\n",
      "0.0 -1.0\n",
      "0.0 -1.0\n",
      "0.0 -1.0\n",
      "0.0 -1.0\n",
      "0.0 -1.0\n",
      "0.0 -1.0\n",
      "0.0 -1.0\n",
      "0.0 -1.0\n",
      "0.0 -1.0\n",
      "0.0 -1.0\n",
      "0.0 -1.0\n",
      "0.0 -1.0\n",
      "0.0 -1.0\n",
      "0.0 -1.0\n",
      "0.0 -1.0\n",
      "0.0 -1.0\n",
      "0.0 -1.0\n",
      "0.0 -1.0\n",
      "0.0 -1.0\n",
      "0.0 -1.0\n",
      "0.0 -1.0\n",
      "0.0 -1.0\n",
      "0.0 -1.0\n",
      "0.0 -1.0\n",
      "0.0 -1.0\n",
      "0.0 -1.0\n",
      "0.0 -1.0\n",
      "0.0 -1.0\n",
      "0.0 -1.0\n",
      "0.0 -1.0\n",
      "0.0 -1.0\n",
      "0.0 -1.0\n",
      "0.0 -1.0\n",
      "0.0 -1.0\n",
      "0.0 -1.0\n",
      "0.0 -1.0\n",
      "0.0 -1.0\n",
      "0.0 -1.0\n",
      "0.0 -1.0\n",
      "0.0 -1.0\n",
      "0.0 -1.0\n",
      "0.0 -1.0\n",
      "0.0 -1.0\n",
      "0.0 -1.0\n",
      "0.0 -1.0\n",
      "0.0 -1.0\n",
      "0.0 -1.0\n",
      "0.0 -1.0\n",
      "0.0 -1.0\n",
      "0.0 -1.0\n",
      "0.0 -1.0\n",
      "0.0 -1.0\n",
      "0.0 -1.0\n",
      "0.0 -1.0\n",
      "0.0 -1.0\n",
      "0.0 -1.0\n",
      "0.0 -1.0\n",
      "0.0 -1.0\n",
      "0.0 -1.0\n",
      "0.0 -1.0\n",
      "0.0 -1.0\n",
      "0.0 -1.0\n",
      "0.0 -1.0\n",
      "0.0 -1.0\n",
      "0.0 -1.0\n",
      "0.0 -1.0\n",
      "0.0 -1.0\n",
      "0.0 -1.0\n"
     ]
    },
    {
     "ename": "KeyboardInterrupt",
     "evalue": "",
     "output_type": "error",
     "traceback": [
      "\u001b[1;31m---------------------------------------------------------------------------\u001b[0m",
      "\u001b[1;31mKeyboardInterrupt\u001b[0m                         Traceback (most recent call last)",
      "\u001b[1;32m<ipython-input-8-4be4dd58a851>\u001b[0m in \u001b[0;36m<module>\u001b[1;34m\u001b[0m\n\u001b[0;32m      1\u001b[0m \u001b[1;32mif\u001b[0m \u001b[0m__name__\u001b[0m\u001b[1;33m==\u001b[0m\u001b[1;34m'__main__'\u001b[0m\u001b[1;33m:\u001b[0m\u001b[1;33m\u001b[0m\u001b[1;33m\u001b[0m\u001b[0m\n\u001b[1;32m----> 2\u001b[1;33m     \u001b[0mmain\u001b[0m\u001b[1;33m(\u001b[0m\u001b[1;33m)\u001b[0m\u001b[1;33m\u001b[0m\u001b[1;33m\u001b[0m\u001b[0m\n\u001b[0m",
      "\u001b[1;32m<ipython-input-7-82b057cedd5e>\u001b[0m in \u001b[0;36mmain\u001b[1;34m()\u001b[0m\n\u001b[0;32m     20\u001b[0m         \u001b[1;31m# 1.train discriminator for k steps\u001b[0m\u001b[1;33m\u001b[0m\u001b[1;33m\u001b[0m\u001b[1;33m\u001b[0m\u001b[0m\n\u001b[0;32m     21\u001b[0m         \u001b[1;32mfor\u001b[0m \u001b[0m_\u001b[0m \u001b[1;32min\u001b[0m \u001b[0mrange\u001b[0m\u001b[1;33m(\u001b[0m\u001b[1;36m5\u001b[0m\u001b[1;33m)\u001b[0m\u001b[1;33m:\u001b[0m\u001b[1;33m\u001b[0m\u001b[1;33m\u001b[0m\u001b[0m\n\u001b[1;32m---> 22\u001b[1;33m             \u001b[0mx\u001b[0m\u001b[1;33m=\u001b[0m\u001b[0mnext\u001b[0m\u001b[1;33m(\u001b[0m\u001b[0mdata_iter\u001b[0m\u001b[1;33m)\u001b[0m\u001b[1;33m\u001b[0m\u001b[1;33m\u001b[0m\u001b[0m\n\u001b[0m\u001b[0;32m     23\u001b[0m             \u001b[0mxr\u001b[0m\u001b[1;33m=\u001b[0m\u001b[0mtorch\u001b[0m\u001b[1;33m.\u001b[0m\u001b[0mfrom_numpy\u001b[0m\u001b[1;33m(\u001b[0m\u001b[0mx\u001b[0m\u001b[1;33m)\u001b[0m\u001b[1;33m.\u001b[0m\u001b[0mcuda\u001b[0m\u001b[1;33m(\u001b[0m\u001b[1;33m)\u001b[0m\u001b[1;33m\u001b[0m\u001b[1;33m\u001b[0m\u001b[0m\n\u001b[0;32m     24\u001b[0m \u001b[1;33m\u001b[0m\u001b[0m\n",
      "\u001b[1;32m<ipython-input-4-d9f723afa8e0>\u001b[0m in \u001b[0;36mdata_generator\u001b[1;34m()\u001b[0m\n\u001b[0;32m     16\u001b[0m         \u001b[0mdataset\u001b[0m \u001b[1;33m=\u001b[0m \u001b[1;33m[\u001b[0m\u001b[1;33m]\u001b[0m\u001b[1;33m\u001b[0m\u001b[1;33m\u001b[0m\u001b[0m\n\u001b[0;32m     17\u001b[0m         \u001b[1;32mfor\u001b[0m \u001b[0mi\u001b[0m \u001b[1;32min\u001b[0m \u001b[0mrange\u001b[0m\u001b[1;33m(\u001b[0m\u001b[0mbatchsz\u001b[0m\u001b[1;33m)\u001b[0m\u001b[1;33m:\u001b[0m\u001b[1;33m\u001b[0m\u001b[1;33m\u001b[0m\u001b[0m\n\u001b[1;32m---> 18\u001b[1;33m             \u001b[0mpoint\u001b[0m \u001b[1;33m=\u001b[0m \u001b[0mnp\u001b[0m\u001b[1;33m.\u001b[0m\u001b[0mrandom\u001b[0m\u001b[1;33m.\u001b[0m\u001b[0mrandn\u001b[0m\u001b[1;33m(\u001b[0m\u001b[1;36m2\u001b[0m\u001b[1;33m)\u001b[0m \u001b[1;33m*\u001b[0m \u001b[1;36m.02\u001b[0m\u001b[1;33m\u001b[0m\u001b[1;33m\u001b[0m\u001b[0m\n\u001b[0m\u001b[0;32m     19\u001b[0m             \u001b[0mcenter\u001b[0m \u001b[1;33m=\u001b[0m \u001b[0mrandom\u001b[0m\u001b[1;33m.\u001b[0m\u001b[0mchoice\u001b[0m\u001b[1;33m(\u001b[0m\u001b[0mcenters\u001b[0m\u001b[1;33m)\u001b[0m\u001b[1;33m\u001b[0m\u001b[1;33m\u001b[0m\u001b[0m\n\u001b[0;32m     20\u001b[0m             \u001b[0mpoint\u001b[0m\u001b[1;33m[\u001b[0m\u001b[1;36m0\u001b[0m\u001b[1;33m]\u001b[0m \u001b[1;33m+=\u001b[0m \u001b[0mcenter\u001b[0m\u001b[1;33m[\u001b[0m\u001b[1;36m0\u001b[0m\u001b[1;33m]\u001b[0m\u001b[1;33m\u001b[0m\u001b[1;33m\u001b[0m\u001b[0m\n",
      "\u001b[1;31mKeyboardInterrupt\u001b[0m: "
     ]
    },
    {
     "data": {
      "text/plain": [
       "<Figure size 432x288 with 0 Axes>"
      ]
     },
     "metadata": {},
     "output_type": "display_data"
    }
   ],
   "source": [
    "if __name__=='__main__':\n",
    "    main()"
   ]
  }
 ],
 "metadata": {
  "kernelspec": {
   "display_name": "Python 3",
   "language": "python",
   "name": "python3"
  },
  "language_info": {
   "codemirror_mode": {
    "name": "ipython",
    "version": 3
   },
   "file_extension": ".py",
   "mimetype": "text/x-python",
   "name": "python",
   "nbconvert_exporter": "python",
   "pygments_lexer": "ipython3",
   "version": "3.6.10"
  }
 },
 "nbformat": 4,
 "nbformat_minor": 4
}
