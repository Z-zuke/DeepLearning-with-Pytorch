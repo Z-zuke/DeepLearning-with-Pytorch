{
 "cells": [
  {
   "cell_type": "code",
   "execution_count": 1,
   "metadata": {
    "ExecuteTime": {
     "end_time": "2020-05-11T03:22:48.417190Z",
     "start_time": "2020-05-11T03:22:47.575843Z"
    }
   },
   "outputs": [
    {
     "name": "stdout",
     "output_type": "stream",
     "text": [
      "Using matplotlib backend: TkAgg\n"
     ]
    }
   ],
   "source": [
    "import torch\n",
    "from torch import nn,optim\n",
    "import numpy as np\n",
    "import matplotlib.pyplot as plt\n",
    "%matplotlib"
   ]
  },
  {
   "cell_type": "code",
   "execution_count": 2,
   "metadata": {
    "ExecuteTime": {
     "end_time": "2020-05-11T03:22:48.434099Z",
     "start_time": "2020-05-11T03:22:48.420181Z"
    }
   },
   "outputs": [
    {
     "data": {
      "text/plain": [
       "<torch._C.Generator at 0x2cf00299030>"
      ]
     },
     "execution_count": 2,
     "metadata": {},
     "output_type": "execute_result"
    }
   ],
   "source": [
    "torch.manual_seed(666)\n",
    "\n",
    "# Hyper Parameters\n",
    "TIME_STEP = 10\n",
    "INPUT_SIZE = 1 \n",
    "LR = 0.02"
   ]
  },
  {
   "cell_type": "code",
   "execution_count": 3,
   "metadata": {
    "ExecuteTime": {
     "end_time": "2020-05-11T03:22:48.811040Z",
     "start_time": "2020-05-11T03:22:48.436731Z"
    }
   },
   "outputs": [
    {
     "data": {
      "text/plain": [
       "[<matplotlib.lines.Line2D at 0x2cf0e225160>]"
      ]
     },
     "execution_count": 3,
     "metadata": {},
     "output_type": "execute_result"
    },
    {
     "data": {
      "text/plain": [
       "[<matplotlib.lines.Line2D at 0x2cf03189550>]"
      ]
     },
     "execution_count": 3,
     "metadata": {},
     "output_type": "execute_result"
    },
    {
     "data": {
      "text/plain": [
       "<matplotlib.legend.Legend at 0x2cf0e225550>"
      ]
     },
     "execution_count": 3,
     "metadata": {},
     "output_type": "execute_result"
    }
   ],
   "source": [
    "# Generate data\n",
    "steps = np.linspace(0,np.pi*2,100,dtype=np.float32)  # float32 for convert to torch.FloatTensor\n",
    "x_np = np.sin(steps)\n",
    "y_np = np.cos(steps)\n",
    "\n",
    "plt.plot(steps,x_np,'b-',label='input (sin)')\n",
    "plt.plot(steps,y_np,'r-',label='target (cos)')\n",
    "plt.legend(loc='best')\n",
    "plt.show()"
   ]
  },
  {
   "cell_type": "code",
   "execution_count": 4,
   "metadata": {
    "ExecuteTime": {
     "end_time": "2020-05-11T03:22:48.828614Z",
     "start_time": "2020-05-11T03:22:48.814078Z"
    }
   },
   "outputs": [],
   "source": [
    "class RNN(nn.Module):\n",
    "    \n",
    "    def __init__(self):\n",
    "        super(RNN,self).__init__()\n",
    "        \n",
    "        self.rnn = nn.RNN(\n",
    "            input_size = INPUT_SIZE,\n",
    "            hidden_size = 32,\n",
    "            num_layers = 1,\n",
    "            batch_first = True\n",
    "        )\n",
    "        \n",
    "        self.fc = nn.Linear(32,1)\n",
    "        \n",
    "    def forward(self,x,h_prev):\n",
    "        # x (batch, time_step, input_size)\n",
    "        # h_prev (n_layers, batch, hidden_size)\n",
    "        # r_out (batch, time_step, hidden_size)\n",
    "        r_out,h_prev = self.rnn(x,h_prev)\n",
    "        \n",
    "        r_out = r_out.view(-1,32)\n",
    "        outs = self.fc(r_out)\n",
    "        outs = outs.view(-1,TIME_STEP,1)\n",
    "        \n",
    "        return outs, h_prev"
   ]
  },
  {
   "cell_type": "code",
   "execution_count": 5,
   "metadata": {
    "ExecuteTime": {
     "end_time": "2020-05-11T03:22:49.228248Z",
     "start_time": "2020-05-11T03:22:48.832602Z"
    },
    "scrolled": true
   },
   "outputs": [
    {
     "name": "stdout",
     "output_type": "stream",
     "text": [
      "RNN(\n",
      "  (rnn): RNN(1, 32, batch_first=True)\n",
      "  (fc): Linear(in_features=32, out_features=1, bias=True)\n",
      ")\n"
     ]
    },
    {
     "name": "stderr",
     "output_type": "stream",
     "text": [
      "Exception in Tkinter callback\n",
      "Traceback (most recent call last):\n",
      "  File \"d:\\anaconda3\\envs\\pytorch\\lib\\tkinter\\__init__.py\", line 1705, in __call__\n",
      "    return self.func(*args)\n",
      "  File \"d:\\anaconda3\\envs\\pytorch\\lib\\tkinter\\__init__.py\", line 749, in callit\n",
      "    func(*args)\n",
      "  File \"d:\\anaconda3\\envs\\pytorch\\lib\\site-packages\\matplotlib\\backends\\_backend_tk.py\", line 270, in idle_draw\n",
      "    self.draw()\n",
      "  File \"d:\\anaconda3\\envs\\pytorch\\lib\\site-packages\\matplotlib\\backends\\backend_tkagg.py\", line 9, in draw\n",
      "    super(FigureCanvasTkAgg, self).draw()\n",
      "  File \"d:\\anaconda3\\envs\\pytorch\\lib\\site-packages\\matplotlib\\backends\\backend_agg.py\", line 393, in draw\n",
      "    self.figure.draw(self.renderer)\n",
      "  File \"d:\\anaconda3\\envs\\pytorch\\lib\\site-packages\\matplotlib\\backend_bases.py\", line 1535, in _draw\n",
      "    def _draw(renderer): raise Done(renderer)\n",
      "matplotlib.backend_bases._get_renderer.<locals>.Done: <matplotlib.backends.backend_agg.RendererAgg object at 0x000002CF0E225D30>\n",
      "Exception in Tkinter callback\n",
      "Traceback (most recent call last):\n",
      "  File \"d:\\anaconda3\\envs\\pytorch\\lib\\tkinter\\__init__.py\", line 1705, in __call__\n",
      "    return self.func(*args)\n",
      "  File \"d:\\anaconda3\\envs\\pytorch\\lib\\site-packages\\matplotlib\\backends\\_backend_tk.py\", line 259, in resize\n",
      "    self.draw()\n",
      "  File \"d:\\anaconda3\\envs\\pytorch\\lib\\site-packages\\matplotlib\\backends\\backend_tkagg.py\", line 9, in draw\n",
      "    super(FigureCanvasTkAgg, self).draw()\n",
      "  File \"d:\\anaconda3\\envs\\pytorch\\lib\\site-packages\\matplotlib\\backends\\backend_agg.py\", line 393, in draw\n",
      "    self.figure.draw(self.renderer)\n",
      "  File \"d:\\anaconda3\\envs\\pytorch\\lib\\site-packages\\matplotlib\\backend_bases.py\", line 1535, in _draw\n",
      "    def _draw(renderer): raise Done(renderer)\n",
      "matplotlib.backend_bases._get_renderer.<locals>.Done: <matplotlib.backends.backend_agg.RendererAgg object at 0x000002CF0E225D30>\n",
      "Exception in Tkinter callback\n",
      "Traceback (most recent call last):\n",
      "  File \"d:\\anaconda3\\envs\\pytorch\\lib\\tkinter\\__init__.py\", line 1705, in __call__\n",
      "    return self.func(*args)\n",
      "  File \"d:\\anaconda3\\envs\\pytorch\\lib\\tkinter\\__init__.py\", line 749, in callit\n",
      "    func(*args)\n",
      "  File \"d:\\anaconda3\\envs\\pytorch\\lib\\site-packages\\matplotlib\\backends\\_backend_tk.py\", line 270, in idle_draw\n",
      "    self.draw()\n",
      "  File \"d:\\anaconda3\\envs\\pytorch\\lib\\site-packages\\matplotlib\\backends\\backend_tkagg.py\", line 9, in draw\n",
      "    super(FigureCanvasTkAgg, self).draw()\n",
      "  File \"d:\\anaconda3\\envs\\pytorch\\lib\\site-packages\\matplotlib\\backends\\backend_agg.py\", line 393, in draw\n",
      "    self.figure.draw(self.renderer)\n",
      "  File \"d:\\anaconda3\\envs\\pytorch\\lib\\site-packages\\matplotlib\\backend_bases.py\", line 1535, in _draw\n",
      "    def _draw(renderer): raise Done(renderer)\n",
      "matplotlib.backend_bases._get_renderer.<locals>.Done: <matplotlib.backends.backend_agg.RendererAgg object at 0x000002CF0E225D30>\n"
     ]
    },
    {
     "data": {
      "image/png": "[encoded data removed]",
      "text/plain": [
       "<Figure size 640x480 with 1 Axes>"
      ]
     },
     "execution_count": 5,
     "metadata": {},
     "output_type": "execute_result"
    }
   ],
   "source": [
    "rnn = RNN()\n",
    "print(rnn)\n",
    "\n",
    "optimizer = optim.Adam(rnn.parameters(),lr=LR)\n",
    "criterion = nn.MSELoss()\n",
    "\n",
    "h_state = None  # for initial hidden state\n",
    "\n",
    "plt.figure(1,figsize=(12,5))\n",
    "plt.ion()"
   ]
  },
  {
   "cell_type": "code",
   "execution_count": 6,
   "metadata": {
    "ExecuteTime": {
     "end_time": "2020-05-11T03:22:51.226410Z",
     "start_time": "2020-05-11T03:22:49.232219Z"
    },
    "scrolled": true
   },
   "outputs": [
    {
     "data": {
      "text/plain": [
       "[<matplotlib.lines.Line2D at 0x2cf0e0f6748>]"
      ]
     },
     "execution_count": 6,
     "metadata": {},
     "output_type": "execute_result"
    },
    {
     "data": {
      "text/plain": [
       "[<matplotlib.lines.Line2D at 0x2cf03163b70>]"
      ]
     },
     "execution_count": 6,
     "metadata": {},
     "output_type": "execute_result"
    },
    {
     "data": {
      "text/plain": [
       "[<matplotlib.lines.Line2D at 0x2cf03163d30>]"
      ]
     },
     "execution_count": 6,
     "metadata": {},
     "output_type": "execute_result"
    },
    {
     "data": {
      "text/plain": [
       "[<matplotlib.lines.Line2D at 0x2cf0e0f69e8>]"
      ]
     },
     "execution_count": 6,
     "metadata": {},
     "output_type": "execute_result"
    },
    {
     "data": {
      "text/plain": [
       "[<matplotlib.lines.Line2D at 0x2cf0e108d30>]"
      ]
     },
     "execution_count": 6,
     "metadata": {},
     "output_type": "execute_result"
    },
    {
     "data": {
      "text/plain": [
       "[<matplotlib.lines.Line2D at 0x2cf0e110e80>]"
      ]
     },
     "execution_count": 6,
     "metadata": {},
     "output_type": "execute_result"
    },
    {
     "data": {
      "text/plain": [
       "[<matplotlib.lines.Line2D at 0x2cf0e0e8e80>]"
      ]
     },
     "execution_count": 6,
     "metadata": {},
     "output_type": "execute_result"
    },
    {
     "data": {
      "text/plain": [
       "[<matplotlib.lines.Line2D at 0x2cf0e1109e8>]"
      ]
     },
     "execution_count": 6,
     "metadata": {},
     "output_type": "execute_result"
    },
    {
     "data": {
      "text/plain": [
       "[<matplotlib.lines.Line2D at 0x2cf0e11ee80>]"
      ]
     },
     "execution_count": 6,
     "metadata": {},
     "output_type": "execute_result"
    },
    {
     "data": {
      "text/plain": [
       "[<matplotlib.lines.Line2D at 0x2cf0e0ff908>]"
      ]
     },
     "execution_count": 6,
     "metadata": {},
     "output_type": "execute_result"
    },
    {
     "data": {
      "text/plain": [
       "[<matplotlib.lines.Line2D at 0x2cf0e155c18>]"
      ]
     },
     "execution_count": 6,
     "metadata": {},
     "output_type": "execute_result"
    },
    {
     "data": {
      "text/plain": [
       "[<matplotlib.lines.Line2D at 0x2cf0e15af60>]"
      ]
     },
     "execution_count": 6,
     "metadata": {},
     "output_type": "execute_result"
    },
    {
     "data": {
      "text/plain": [
       "[<matplotlib.lines.Line2D at 0x2cf0e15a0b8>]"
      ]
     },
     "execution_count": 6,
     "metadata": {},
     "output_type": "execute_result"
    },
    {
     "data": {
      "text/plain": [
       "[<matplotlib.lines.Line2D at 0x2cf0e163278>]"
      ]
     },
     "execution_count": 6,
     "metadata": {},
     "output_type": "execute_result"
    },
    {
     "data": {
      "text/plain": [
       "[<matplotlib.lines.Line2D at 0x2cf0e0ff5c0>]"
      ]
     },
     "execution_count": 6,
     "metadata": {},
     "output_type": "execute_result"
    },
    {
     "data": {
      "text/plain": [
       "[<matplotlib.lines.Line2D at 0x2cf0e164898>]"
      ]
     },
     "execution_count": 6,
     "metadata": {},
     "output_type": "execute_result"
    },
    {
     "data": {
      "text/plain": [
       "[<matplotlib.lines.Line2D at 0x2cf0e163eb8>]"
      ]
     },
     "execution_count": 6,
     "metadata": {},
     "output_type": "execute_result"
    },
    {
     "data": {
      "text/plain": [
       "[<matplotlib.lines.Line2D at 0x2cf0e173780>]"
      ]
     },
     "execution_count": 6,
     "metadata": {},
     "output_type": "execute_result"
    },
    {
     "data": {
      "text/plain": [
       "[<matplotlib.lines.Line2D at 0x2cf0e17e2e8>]"
      ]
     },
     "execution_count": 6,
     "metadata": {},
     "output_type": "execute_result"
    },
    {
     "data": {
      "text/plain": [
       "[<matplotlib.lines.Line2D at 0x2cf0e17a710>]"
      ]
     },
     "execution_count": 6,
     "metadata": {},
     "output_type": "execute_result"
    }
   ],
   "source": [
    "for step in range(10):\n",
    "    start,end = step * np.pi, (step+1)*np.pi \n",
    "    # using sin predict cos\n",
    "    steps = np.linspace(start,end,TIME_STEP,dtype=np.float32,endpoint=False)\n",
    "    x_np = np.sin(steps)\n",
    "    y_np = np.cos(steps)\n",
    "    \n",
    "    x = torch.from_numpy(x_np[np.newaxis,:,np.newaxis])  # shape [batch,time_step,input_size]\n",
    "    y = torch.from_numpy(y_np[np.newaxis,:,np.newaxis])\n",
    "    \n",
    "    prediction, h_state = rnn(x,h_state)\n",
    "    # next step\n",
    "    h_state = h_state.data  # repack the hidden state, break the connection from last iteration\n",
    "    \n",
    "    loss = criterion(prediction,y)\n",
    "    optimizer.zero_grad()\n",
    "    loss.backward()\n",
    "    optimizer.step()\n",
    "    \n",
    "    # plotting\n",
    "    plt.plot(steps, y_np.flatten(), 'r-')\n",
    "    plt.plot(steps, prediction.data.numpy().flatten(), 'b-')\n",
    "    plt.draw(); plt.pause(0.05)\n",
    " \n",
    "plt.ioff()"
   ]
  }
 ],
 "metadata": {
  "kernelspec": {
   "display_name": "Python 3",
   "language": "python",
   "name": "python3"
  },
  "language_info": {
   "codemirror_mode": {
    "name": "ipython",
    "version": 3
   },
   "file_extension": ".py",
   "mimetype": "text/x-python",
   "name": "python",
   "nbconvert_exporter": "python",
   "pygments_lexer": "ipython3",
   "version": "3.6.10"
  }
 },
 "nbformat": 4,
 "nbformat_minor": 4
}
