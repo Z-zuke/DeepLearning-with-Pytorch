{
 "cells": [
  {
   "cell_type": "code",
   "execution_count": 4,
   "metadata": {
    "ExecuteTime": {
     "end_time": "2020-04-07T07:48:10.286329Z",
     "start_time": "2020-04-07T07:48:10.262350Z"
    }
   },
   "outputs": [],
   "source": [
    "import torch\n",
    "from torch import nn\n",
    "from torch.nn import functional as F \n",
    "from torch import optim \n",
    "import torchvision\n",
    "import matplotlib.pyplot as plt\n",
    "# %run utils.py\n",
    "from utils import plot_image, plot_curve, one_hot"
   ]
  },
  {
   "cell_type": "code",
   "execution_count": 5,
   "metadata": {
    "ExecuteTime": {
     "end_time": "2020-04-07T07:48:47.849972Z",
     "start_time": "2020-04-07T07:48:47.845983Z"
    }
   },
   "outputs": [],
   "source": [
    "batch_size=512"
   ]
  },
  {
   "cell_type": "markdown",
   "metadata": {},
   "source": [
    "step1 load dataset"
   ]
  },
  {
   "cell_type": "code",
   "execution_count": 8,
   "metadata": {
    "ExecuteTime": {
     "end_time": "2020-04-07T07:54:32.080199Z",
     "start_time": "2020-04-07T07:54:32.036315Z"
    },
    "scrolled": true
   },
   "outputs": [],
   "source": [
    "train_data=torch.utils.data.DataLoader(\n",
    "    torchvision.datasets.MNIST('mnist_data',train=True,download=True,\n",
    "                          transform=torchvision.transforms.Compose([\n",
    "                              torchvision.transforms.ToTensor(),\n",
    "                              torchvision.transforms.Normalize(\n",
    "                                  (0.1307,),(0.3081,))\n",
    "                          ])),\n",
    "    batch_size=batch_size,shuffle=True)\n",
    "\n",
    "test_data = torch.utils.data.DataLoader(\n",
    "    torchvision.datasets.MNIST('mnist_data/', train=False, download=True,\n",
    "                               transform=torchvision.transforms.Compose([\n",
    "                                   torchvision.transforms.ToTensor(),\n",
    "                                   torchvision.transforms.Normalize(\n",
    "                                       (0.1307,), (0.3081,))\n",
    "                               ])),\n",
    "    batch_size=batch_size, shuffle=False)"
   ]
  },
  {
   "cell_type": "code",
   "execution_count": 9,
   "metadata": {
    "ExecuteTime": {
     "end_time": "2020-04-07T07:55:20.622584Z",
     "start_time": "2020-04-07T07:55:20.037582Z"
    }
   },
   "outputs": [
    {
     "name": "stdout",
     "output_type": "stream",
     "text": [
      "torch.Size([512, 1, 28, 28]) torch.Size([512]) tensor(-0.4242) tensor(2.8215)\n"
     ]
    },
    {
     "data": {
      "image/png": "[encoded data removed]",
      "text/plain": [
       "<Figure size 432x288 with 6 Axes>"
      ]
     },
     "metadata": {},
     "output_type": "display_data"
    }
   ],
   "source": [
    "x,y=next(iter(train_data))\n",
    "print(x.shape,y.shape,x.min(),x.max())\n",
    "plot_image(x,y,'image sample')"
   ]
  },
  {
   "cell_type": "markdown",
   "metadata": {},
   "source": [
    "step2 generate net"
   ]
  },
  {
   "cell_type": "code",
   "execution_count": 10,
   "metadata": {
    "ExecuteTime": {
     "end_time": "2020-04-07T08:00:51.615991Z",
     "start_time": "2020-04-07T08:00:51.610979Z"
    }
   },
   "outputs": [],
   "source": [
    "class Net(nn.Module):\n",
    "    def __init__(self):\n",
    "        super(Net,self).__init__()\n",
    "        # w*x+b\n",
    "        self.fc1=nn.Linear(28*28,256)\n",
    "        self.fc2=nn.Linear(256,64)\n",
    "        self.fc3=nn.Linear(64,10)\n",
    "        \n",
    "    def forward(self,x):\n",
    "        # x: [b,1,28,28]\n",
    "        # h1=relu(x*w1+b1)\n",
    "        x=F.relu(self.fc1(x))\n",
    "        # h2=relu(h1*w2+b2)\n",
    "        x=F.relu(self.fc2(x))\n",
    "        # h3=h2*w3+b3\n",
    "        x=self.fc3(x)\n",
    "        \n",
    "        return x "
   ]
  },
  {
   "cell_type": "markdown",
   "metadata": {},
   "source": [
    "step2 start training"
   ]
  },
  {
   "cell_type": "code",
   "execution_count": 12,
   "metadata": {
    "ExecuteTime": {
     "end_time": "2020-04-07T08:12:49.752614Z",
     "start_time": "2020-04-07T08:11:25.672113Z"
    },
    "scrolled": true
   },
   "outputs": [
    {
     "name": "stdout",
     "output_type": "stream",
     "text": [
      "0 0 0.10705742985010147\n",
      "0 10 0.10562162101268768\n",
      "0 20 0.09950540959835052\n",
      "0 30 0.09500012546777725\n",
      "0 40 0.0921851173043251\n",
      "0 50 0.08977575600147247\n",
      "0 60 0.08762452751398087\n",
      "0 70 0.08473461866378784\n",
      "0 80 0.08493354916572571\n",
      "0 90 0.08310866355895996\n",
      "0 100 0.08216533809900284\n",
      "0 110 0.08140002191066742\n",
      "1 0 0.0798725038766861\n",
      "1 10 0.07804834097623825\n",
      "1 20 0.07675984501838684\n",
      "1 30 0.07731126248836517\n",
      "1 40 0.0772140622138977\n",
      "1 50 0.0758262574672699\n",
      "1 60 0.07421033084392548\n",
      "1 70 0.07461810857057571\n",
      "1 80 0.0712411031126976\n",
      "1 90 0.07308779656887054\n",
      "1 100 0.07134488970041275\n",
      "1 110 0.0698498860001564\n",
      "2 0 0.07102860510349274\n",
      "2 10 0.07011164724826813\n",
      "2 20 0.07013103365898132\n",
      "2 30 0.06893101334571838\n",
      "2 40 0.0683424174785614\n",
      "2 50 0.06815318763256073\n",
      "2 60 0.06731651723384857\n",
      "2 70 0.06611089408397675\n",
      "2 80 0.06625892966985703\n",
      "2 90 0.06718404591083527\n",
      "2 100 0.06523193418979645\n",
      "2 110 0.06431720405817032\n"
     ]
    },
    {
     "data": {
      "image/png": "[encoded data removed]",
      "text/plain": [
       "<Figure size 432x288 with 1 Axes>"
      ]
     },
     "metadata": {
      "needs_background": "light"
     },
     "output_type": "display_data"
    }
   ],
   "source": [
    "net=Net()\n",
    "# [w1,b1,w2,b2,w3,b3]\n",
    "optimizer=optim.SGD(net.parameters(),lr=0.001,momentum=0.9)\n",
    "\n",
    "train_loss=[]\n",
    "\n",
    "for epoch in range(3):\n",
    "    for batch_idx,(x,y) in enumerate(train_data):\n",
    "        # x: [b,1,28,28], y: [512]\n",
    "        # [b,1,28,28] => [b,784]\n",
    "        x=x.view(x.size(0),28*28)\n",
    "        # => [b,10]\n",
    "        out=net(x)\n",
    "        y_onehot=one_hot(y)\n",
    "        # loss =mse(out,y_onehot)\n",
    "        loss=F.mse_loss(out,y_onehot)\n",
    "        \n",
    "        optimizer.zero_grad()\n",
    "        loss.backward()\n",
    "        # w'=w-lr*grad\n",
    "        optimizer.step()\n",
    "        \n",
    "        train_loss.append(loss.item())\n",
    "        \n",
    "        if batch_idx % 10 ==0:\n",
    "            print(epoch, batch_idx, loss.item())\n",
    "\n",
    "plot_curve(train_loss)"
   ]
  },
  {
   "cell_type": "markdown",
   "metadata": {},
   "source": [
    "step3 correct rate"
   ]
  },
  {
   "cell_type": "code",
   "execution_count": 14,
   "metadata": {
    "ExecuteTime": {
     "end_time": "2020-04-07T08:16:09.403717Z",
     "start_time": "2020-04-07T08:16:06.616933Z"
    }
   },
   "outputs": [
    {
     "name": "stdout",
     "output_type": "stream",
     "text": [
      "test acc:  0.6904\n"
     ]
    }
   ],
   "source": [
    "total_correct=0\n",
    "for x,y in test_data:\n",
    "    x=x.view(x.size(0),28*28)\n",
    "    out=net(x)\n",
    "    # out: [b,10] => pred: [b]\n",
    "    pred=out.argmax(dim=1)\n",
    "    correct=pred.eq(y).sum().float().item()\n",
    "    total_correct+=correct\n",
    "    \n",
    "total_num=len(test_data.dataset)\n",
    "acc=total_correct/total_num\n",
    "print('test acc: ',acc)"
   ]
  },
  {
   "cell_type": "markdown",
   "metadata": {},
   "source": [
    "step4 pred show"
   ]
  },
  {
   "cell_type": "code",
   "execution_count": 15,
   "metadata": {
    "ExecuteTime": {
     "end_time": "2020-04-07T08:18:06.115519Z",
     "start_time": "2020-04-07T08:18:05.543641Z"
    }
   },
   "outputs": [
    {
     "data": {
      "image/png": "[encoded data removed]",
      "text/plain": [
       "<Figure size 432x288 with 6 Axes>"
      ]
     },
     "metadata": {},
     "output_type": "display_data"
    }
   ],
   "source": [
    "x,y=next(iter(test_data))\n",
    "out=net(x.view(x.size(0),28*28))\n",
    "pred=out.argmax(dim=1)\n",
    "plot_image(x,pred,'test-pred')"
   ]
  }
 ],
 "metadata": {
  "kernelspec": {
   "display_name": "Python 3",
   "language": "python",
   "name": "python3"
  },
  "language_info": {
   "codemirror_mode": {
    "name": "ipython",
    "version": 3
   },
   "file_extension": ".py",
   "mimetype": "text/x-python",
   "name": "python",
   "nbconvert_exporter": "python",
   "pygments_lexer": "ipython3",
   "version": "3.6.10"
  }
 },
 "nbformat": 4,
 "nbformat_minor": 4
}
