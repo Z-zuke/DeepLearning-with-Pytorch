{
 "cells": [
  {
   "cell_type": "code",
   "execution_count": 1,
   "metadata": {
    "ExecuteTime": {
     "end_time": "2020-04-16T07:26:34.921171Z",
     "start_time": "2020-04-16T07:26:33.570066Z"
    }
   },
   "outputs": [],
   "source": [
    "import torch\n",
    "from torch import nn\n",
    "from torch.nn import functional as F \n",
    "from torch import optim \n",
    "import torchvision\n",
    "import matplotlib.pyplot as plt\n",
    "# %run utils.py\n",
    "from utils import plot_image, plot_curve, one_hot"
   ]
  },
  {
   "cell_type": "code",
   "execution_count": 2,
   "metadata": {
    "ExecuteTime": {
     "end_time": "2020-04-16T07:26:34.932133Z",
     "start_time": "2020-04-16T07:26:34.925153Z"
    }
   },
   "outputs": [],
   "source": [
    "batch_size=512"
   ]
  },
  {
   "cell_type": "markdown",
   "metadata": {},
   "source": [
    "step1 load dataset"
   ]
  },
  {
   "cell_type": "code",
   "execution_count": 3,
   "metadata": {
    "ExecuteTime": {
     "end_time": "2020-04-16T07:26:35.007931Z",
     "start_time": "2020-04-16T07:26:34.936124Z"
    },
    "scrolled": true
   },
   "outputs": [],
   "source": [
    "train_data=torch.utils.data.DataLoader(\n",
    "    torchvision.datasets.MNIST('./data/mnist_data',train=True,download=True,\n",
    "                          transform=torchvision.transforms.Compose([\n",
    "                              torchvision.transforms.ToTensor(),\n",
    "                              torchvision.transforms.Normalize(\n",
    "                                  (0.1307,),(0.3081,))\n",
    "                          ])),\n",
    "    batch_size=batch_size,shuffle=True)\n",
    "\n",
    "test_data = torch.utils.data.DataLoader(\n",
    "    torchvision.datasets.MNIST('./data/mnist_data/', train=False, download=True,\n",
    "                               transform=torchvision.transforms.Compose([\n",
    "                                   torchvision.transforms.ToTensor(),\n",
    "                                   torchvision.transforms.Normalize(\n",
    "                                       (0.1307,), (0.3081,))\n",
    "                               ])),\n",
    "    batch_size=batch_size, shuffle=False)"
   ]
  },
  {
   "cell_type": "code",
   "execution_count": 4,
   "metadata": {
    "ExecuteTime": {
     "end_time": "2020-04-16T07:26:35.937929Z",
     "start_time": "2020-04-16T07:26:35.010942Z"
    }
   },
   "outputs": [
    {
     "name": "stdout",
     "output_type": "stream",
     "text": [
      "torch.Size([512, 1, 28, 28]) torch.Size([512]) tensor(-0.4242) tensor(2.8215)\n"
     ]
    },
    {
     "data": {
      "image/png": "[encoded data removed]",
      "text/plain": [
       "<Figure size 432x288 with 6 Axes>"
      ]
     },
     "metadata": {},
     "output_type": "display_data"
    }
   ],
   "source": [
    "x,y=next(iter(train_data))\n",
    "print(x.shape,y.shape,x.min(),x.max())\n",
    "plot_image(x,y,'image sample')"
   ]
  },
  {
   "cell_type": "markdown",
   "metadata": {},
   "source": [
    "step2 generate net"
   ]
  },
  {
   "cell_type": "code",
   "execution_count": 5,
   "metadata": {
    "ExecuteTime": {
     "end_time": "2020-04-16T07:26:35.954883Z",
     "start_time": "2020-04-16T07:26:35.942953Z"
    }
   },
   "outputs": [],
   "source": [
    "class Net(nn.Module):\n",
    "    def __init__(self):\n",
    "        super(Net,self).__init__()\n",
    "        # w*x+b\n",
    "        self.fc1=nn.Linear(28*28,256)\n",
    "        self.fc2=nn.Linear(256,64)\n",
    "        self.fc3=nn.Linear(64,10)\n",
    "        \n",
    "    def forward(self,x):\n",
    "        # x: [b,1,28,28]\n",
    "        # h1=relu(x*w1+b1)\n",
    "        x=F.relu(self.fc1(x))\n",
    "        # h2=relu(h1*w2+b2)\n",
    "        x=F.relu(self.fc2(x))\n",
    "        # h3=h2*w3+b3\n",
    "        x=self.fc3(x)\n",
    "        \n",
    "        return x "
   ]
  },
  {
   "cell_type": "markdown",
   "metadata": {},
   "source": [
    "step2 start training"
   ]
  },
  {
   "cell_type": "code",
   "execution_count": 6,
   "metadata": {
    "ExecuteTime": {
     "end_time": "2020-04-16T07:28:07.334156Z",
     "start_time": "2020-04-16T07:26:35.963868Z"
    },
    "scrolled": true
   },
   "outputs": [
    {
     "name": "stdout",
     "output_type": "stream",
     "text": [
      "0 0 0.12494952976703644\n",
      "0 10 0.119890496134758\n",
      "0 20 0.10985292494297028\n",
      "0 30 0.10264278948307037\n",
      "0 40 0.09751354157924652\n",
      "0 50 0.09393472969532013\n",
      "0 60 0.09166805446147919\n",
      "0 70 0.09104049205780029\n",
      "0 80 0.08811880648136139\n",
      "0 90 0.08741718530654907\n",
      "0 100 0.0844949334859848\n",
      "0 110 0.08560843765735626\n",
      "1 0 0.08449184894561768\n",
      "1 10 0.0837760716676712\n",
      "1 20 0.08180331438779831\n",
      "1 30 0.08136900514364243\n",
      "1 40 0.0803392082452774\n",
      "1 50 0.07965739071369171\n",
      "1 60 0.07812533527612686\n",
      "1 70 0.07774300873279572\n",
      "1 80 0.07914914190769196\n",
      "1 90 0.07720087468624115\n",
      "1 100 0.07707466185092926\n",
      "1 110 0.07509702444076538\n",
      "2 0 0.07526373863220215\n",
      "2 10 0.07459907978773117\n",
      "2 20 0.07445312291383743\n",
      "2 30 0.07366710901260376\n",
      "2 40 0.07109008729457855\n",
      "2 50 0.07214127480983734\n",
      "2 60 0.07332316786050797\n",
      "2 70 0.07072249799966812\n",
      "2 80 0.07150523364543915\n",
      "2 90 0.069992795586586\n",
      "2 100 0.06995753943920135\n",
      "2 110 0.06870772689580917\n"
     ]
    },
    {
     "data": {
      "image/png": "[encoded data removed]",
      "text/plain": [
       "<Figure size 432x288 with 1 Axes>"
      ]
     },
     "metadata": {
      "needs_background": "light"
     },
     "output_type": "display_data"
    }
   ],
   "source": [
    "net=Net()\n",
    "# [w1,b1,w2,b2,w3,b3]\n",
    "optimizer=optim.SGD(net.parameters(),lr=0.001,momentum=0.9)\n",
    "\n",
    "train_loss=[]\n",
    "\n",
    "for epoch in range(3):\n",
    "    for batch_idx,(x,y) in enumerate(train_data):\n",
    "        # x: [b,1,28,28], y: [512]\n",
    "        # [b,1,28,28] => [b,784]\n",
    "        x=x.view(x.size(0),28*28)\n",
    "        # => [b,10]\n",
    "        out=net(x)\n",
    "        y_onehot=one_hot(y)\n",
    "        # loss =mse(out,y_onehot)\n",
    "        loss=F.mse_loss(out,y_onehot)\n",
    "        \n",
    "        optimizer.zero_grad()\n",
    "        loss.backward()\n",
    "        # w'=w-lr*grad\n",
    "        optimizer.step()\n",
    "        \n",
    "        train_loss.append(loss.item())\n",
    "        \n",
    "        if batch_idx % 10 ==0:\n",
    "            print(epoch, batch_idx, loss.item())\n",
    "\n",
    "plot_curve(train_loss)"
   ]
  },
  {
   "cell_type": "markdown",
   "metadata": {},
   "source": [
    "step3 correct rate"
   ]
  },
  {
   "cell_type": "code",
   "execution_count": 7,
   "metadata": {
    "ExecuteTime": {
     "end_time": "2020-04-16T07:28:12.323999Z",
     "start_time": "2020-04-16T07:28:07.338142Z"
    }
   },
   "outputs": [
    {
     "name": "stdout",
     "output_type": "stream",
     "text": [
      "test acc:  0.6346\n"
     ]
    }
   ],
   "source": [
    "total_correct=0\n",
    "for x,y in test_data:\n",
    "    x=x.view(x.size(0),28*28)\n",
    "    out=net(x)\n",
    "    # out: [b,10] => pred: [b]\n",
    "    pred=out.argmax(dim=1)\n",
    "    correct=pred.eq(y).sum().float().item()\n",
    "    total_correct+=correct\n",
    "    \n",
    "total_num=len(test_data.dataset)\n",
    "acc=total_correct/total_num\n",
    "print('test acc: ',acc)"
   ]
  },
  {
   "cell_type": "markdown",
   "metadata": {},
   "source": [
    "step4 pred show"
   ]
  },
  {
   "cell_type": "code",
   "execution_count": 8,
   "metadata": {
    "ExecuteTime": {
     "end_time": "2020-04-16T07:28:13.683612Z",
     "start_time": "2020-04-16T07:28:12.335966Z"
    }
   },
   "outputs": [
    {
     "data": {
      "image/png": "[encoded data removed]",
      "text/plain": [
       "<Figure size 432x288 with 6 Axes>"
      ]
     },
     "metadata": {},
     "output_type": "display_data"
    }
   ],
   "source": [
    "x,y=next(iter(test_data))\n",
    "out=net(x.view(x.size(0),28*28))\n",
    "pred=out.argmax(dim=1)\n",
    "plot_image(x,pred,'test-pred')"
   ]
  }
 ],
 "metadata": {
  "kernelspec": {
   "display_name": "Python 3",
   "language": "python",
   "name": "python3"
  },
  "language_info": {
   "codemirror_mode": {
    "name": "ipython",
    "version": 3
   },
   "file_extension": ".py",
   "mimetype": "text/x-python",
   "name": "python",
   "nbconvert_exporter": "python",
   "pygments_lexer": "ipython3",
   "version": "3.6.10"
  }
 },
 "nbformat": 4,
 "nbformat_minor": 4
}
