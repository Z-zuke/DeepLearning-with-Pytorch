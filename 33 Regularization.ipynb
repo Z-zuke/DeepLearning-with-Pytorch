{
 "cells": [
  {
   "cell_type": "code",
   "execution_count": 1,
   "metadata": {
    "ExecuteTime": {
     "end_time": "2020-04-17T09:59:16.616291Z",
     "start_time": "2020-04-17T09:59:15.692618Z"
    }
   },
   "outputs": [],
   "source": [
    "import torch\n",
    "import torch.nn as nn\n",
    "import torch.nn.functional as F\n",
    "import torch.optim as optim\n",
    "from torchvision import datasets,transforms"
   ]
  },
  {
   "cell_type": "code",
   "execution_count": 2,
   "metadata": {
    "ExecuteTime": {
     "end_time": "2020-04-17T09:59:16.683141Z",
     "start_time": "2020-04-17T09:59:16.620312Z"
    }
   },
   "outputs": [
    {
     "name": "stdout",
     "output_type": "stream",
     "text": [
      "train: 60000 test: 10000\n"
     ]
    }
   ],
   "source": [
    "batch_size=200\n",
    "learning_rate=0.01\n",
    "epochs=10\n",
    "\n",
    "# 加载数据\n",
    "train_db=datasets.MNIST('./data/mnist_data',train=True,download=True,\n",
    "                  transform=transforms.Compose([\n",
    "                      transforms.ToTensor(),\n",
    "                      transforms.Normalize((0.1307,),(0.3081,))\n",
    "                  ]))\n",
    "# train_loader=torch.utils.data.DataLoader(train_db,batch_size=batch_size,shuffle=True)\n",
    "\n",
    "test_db=datasets.MNIST('./data/mnist_data',train=False,\n",
    "                  transform=transforms.Compose([\n",
    "                      transforms.ToTensor(),\n",
    "                      transforms.Normalize((0.1307,),(0.3081,))\n",
    "                  ]))\n",
    "test_loader=torch.utils.data.DataLoader(test_db,batch_size=batch_size,shuffle=True)\n",
    "print('train:',len(train_db),'test:',len(test_db))"
   ]
  },
  {
   "cell_type": "code",
   "execution_count": 3,
   "metadata": {
    "ExecuteTime": {
     "end_time": "2020-04-17T09:59:16.705054Z",
     "start_time": "2020-04-17T09:59:16.686114Z"
    }
   },
   "outputs": [
    {
     "name": "stdout",
     "output_type": "stream",
     "text": [
      "db1: 50000 db2: 10000\n"
     ]
    }
   ],
   "source": [
    "train_db,val_db=torch.utils.data.random_split(train_db,[50000,10000])\n",
    "print('db1:',len(train_db),'db2:',len(val_db))\n",
    "\n",
    "train_loader=torch.utils.data.DataLoader(train_db,batch_size=batch_size,shuffle=True)\n",
    "val_loader=torch.utils.data.DataLoader(val_db,batch_size=batch_size,shuffle=True)"
   ]
  },
  {
   "cell_type": "code",
   "execution_count": 4,
   "metadata": {
    "ExecuteTime": {
     "end_time": "2020-04-17T09:59:16.724001Z",
     "start_time": "2020-04-17T09:59:16.708044Z"
    },
    "code_folding": []
   },
   "outputs": [],
   "source": [
    "class MLP(nn.Module):\n",
    "    \n",
    "    def __init__(self):\n",
    "        super(MLP,self).__init__()\n",
    "        \n",
    "        self.model=nn.Sequential(\n",
    "            nn.Linear(784,200),\n",
    "            nn.ReLU(inplace=True),\n",
    "            nn.Linear(200,200),\n",
    "            nn.ReLU(inplace=True),\n",
    "            nn.Linear(200,10),\n",
    "            nn.ReLU(inplace=True),\n",
    "        )\n",
    "        \n",
    "    def forward(self,x):\n",
    "        x=self.model(x)\n",
    "        return x"
   ]
  },
  {
   "cell_type": "code",
   "execution_count": 5,
   "metadata": {
    "ExecuteTime": {
     "end_time": "2020-04-17T10:02:09.763174Z",
     "start_time": "2020-04-17T09:59:16.726996Z"
    },
    "scrolled": true
   },
   "outputs": [
    {
     "name": "stdout",
     "output_type": "stream",
     "text": [
      "Train Epoch: 0 [0/50000 (0%)]\tLoss: 2.311604\n",
      "Train Epoch: 0 [20000/50000 (40%)]\tLoss: 2.079433\n",
      "Train Epoch: 0 [40000/50000 (80%)]\tLoss: 1.558630\n",
      "Val set: Average loss: 0.0062, Accuracy: 6917/10000 (69%)\n",
      "\n",
      "Train Epoch: 1 [0/50000 (0%)]\tLoss: 1.198201\n",
      "Train Epoch: 1 [20000/50000 (40%)]\tLoss: 0.840507\n",
      "Train Epoch: 1 [40000/50000 (80%)]\tLoss: 0.775883\n",
      "Val set: Average loss: 0.0039, Accuracy: 7692/10000 (77%)\n",
      "\n",
      "Train Epoch: 2 [0/50000 (0%)]\tLoss: 0.712904\n",
      "Train Epoch: 2 [20000/50000 (40%)]\tLoss: 0.660132\n",
      "Train Epoch: 2 [40000/50000 (80%)]\tLoss: 0.813163\n",
      "Val set: Average loss: 0.0032, Accuracy: 7933/10000 (79%)\n",
      "\n",
      "Train Epoch: 3 [0/50000 (0%)]\tLoss: 0.553356\n",
      "Train Epoch: 3 [20000/50000 (40%)]\tLoss: 0.651009\n",
      "Train Epoch: 3 [40000/50000 (80%)]\tLoss: 0.591614\n",
      "Val set: Average loss: 0.0029, Accuracy: 8053/10000 (81%)\n",
      "\n",
      "Train Epoch: 4 [0/50000 (0%)]\tLoss: 0.562405\n",
      "Train Epoch: 4 [20000/50000 (40%)]\tLoss: 0.558904\n",
      "Train Epoch: 4 [40000/50000 (80%)]\tLoss: 0.598968\n",
      "Val set: Average loss: 0.0028, Accuracy: 8115/10000 (81%)\n",
      "\n",
      "Train Epoch: 5 [0/50000 (0%)]\tLoss: 0.585146\n",
      "Train Epoch: 5 [20000/50000 (40%)]\tLoss: 0.541041\n",
      "Train Epoch: 5 [40000/50000 (80%)]\tLoss: 0.538216\n",
      "Val set: Average loss: 0.0027, Accuracy: 8154/10000 (82%)\n",
      "\n",
      "Train Epoch: 6 [0/50000 (0%)]\tLoss: 0.503527\n",
      "Train Epoch: 6 [20000/50000 (40%)]\tLoss: 0.673114\n",
      "Train Epoch: 6 [40000/50000 (80%)]\tLoss: 0.463482\n",
      "Val set: Average loss: 0.0026, Accuracy: 8202/10000 (82%)\n",
      "\n",
      "Train Epoch: 7 [0/50000 (0%)]\tLoss: 0.531128\n",
      "Train Epoch: 7 [20000/50000 (40%)]\tLoss: 0.429858\n",
      "Train Epoch: 7 [40000/50000 (80%)]\tLoss: 0.488657\n",
      "Val set: Average loss: 0.0025, Accuracy: 8231/10000 (82%)\n",
      "\n",
      "Train Epoch: 8 [0/50000 (0%)]\tLoss: 0.392509\n",
      "Train Epoch: 8 [20000/50000 (40%)]\tLoss: 0.488984\n",
      "Train Epoch: 8 [40000/50000 (80%)]\tLoss: 0.448402\n",
      "Val set: Average loss: 0.0025, Accuracy: 8245/10000 (82%)\n",
      "\n",
      "Train Epoch: 9 [0/50000 (0%)]\tLoss: 0.539673\n",
      "Train Epoch: 9 [20000/50000 (40%)]\tLoss: 0.497464\n",
      "Train Epoch: 9 [40000/50000 (80%)]\tLoss: 0.464415\n",
      "Val set: Average loss: 0.0025, Accuracy: 8275/10000 (83%)\n",
      "\n"
     ]
    }
   ],
   "source": [
    "device=torch.device('cuda:0')\n",
    "net=MLP().to(device)\n",
    "\n",
    "# 添加 L2 regularization\n",
    "optimizer=optim.SGD(net.parameters(),lr=learning_rate,weight_decay=0.01)\n",
    "criteon=nn.CrossEntropyLoss().to(device)\n",
    "\n",
    "for epoch in range(epochs):\n",
    "    \n",
    "    for batch_idx,(data,target) in enumerate(train_loader):\n",
    "        data=data.view(-1,28*28)\n",
    "        data,target=data.to(device),target.to(device)\n",
    "        \n",
    "        logits=net(data)\n",
    "        loss=criteon(logits,target)\n",
    "        \n",
    "        optimizer.zero_grad()\n",
    "        loss.backward()\n",
    "        optimizer.step()\n",
    "        \n",
    "        if batch_idx % 100 ==0: \n",
    "            print('Train Epoch: {} [{}/{} ({:.0f}%)]\\tLoss: {:.6f}'.format(\n",
    "                epoch, batch_idx * len(data), len(train_loader.dataset),\n",
    "                       100. * batch_idx / len(train_loader), loss.item()))\n",
    "            \n",
    "    val_loss=0 \n",
    "    correct=0 \n",
    "    for data,target in val_loader:\n",
    "        data=data.view(-1,28*28)\n",
    "        data,target=data.to(device),target.to(device)\n",
    "        \n",
    "        logits=net(data)\n",
    "        val_loss+=criteon(logits,target).item()\n",
    "        \n",
    "        pred=logits.argmax(dim=1)\n",
    "        correct+=pred.eq(target.data).sum()\n",
    "        \n",
    "    val_loss /= len(val_loader.dataset)\n",
    "    print('Val set: Average loss: {:.4f}, Accuracy: {}/{} ({:.0f}%)\\n'.format(\n",
    "        val_loss, correct, len(val_loader.dataset),\n",
    "        100. * correct / len(val_loader.dataset)))"
   ]
  },
  {
   "cell_type": "code",
   "execution_count": 6,
   "metadata": {
    "ExecuteTime": {
     "end_time": "2020-04-17T10:02:12.094051Z",
     "start_time": "2020-04-17T10:02:09.767136Z"
    }
   },
   "outputs": [
    {
     "name": "stdout",
     "output_type": "stream",
     "text": [
      "\n",
      "Test set: Average loss: 0.0024, Accuracy: 9025/10000 (90%)\n",
      "\n"
     ]
    }
   ],
   "source": [
    "test_loss = 0\n",
    "correct = 0\n",
    "for data, target in test_loader:\n",
    "    data = data.view(-1, 28 * 28)\n",
    "    data, target = data.to(device), target.cuda()\n",
    "    logits = net(data)\n",
    "    test_loss += criteon(logits, target).item()\n",
    "\n",
    "    pred = logits.data.max(1)[1]\n",
    "    correct += pred.eq(target.data).sum()\n",
    "\n",
    "test_loss /= len(test_loader.dataset)\n",
    "print('\\nTest set: Average loss: {:.4f}, Accuracy: {}/{} ({:.0f}%)\\n'.format(\n",
    "    test_loss, correct, len(test_loader.dataset),\n",
    "    100. * correct / len(test_loader.dataset)))"
   ]
  }
 ],
 "metadata": {
  "kernelspec": {
   "display_name": "Python 3",
   "language": "python",
   "name": "python3"
  },
  "language_info": {
   "codemirror_mode": {
    "name": "ipython",
    "version": 3
   },
   "file_extension": ".py",
   "mimetype": "text/x-python",
   "name": "python",
   "nbconvert_exporter": "python",
   "pygments_lexer": "ipython3",
   "version": "3.6.10"
  }
 },
 "nbformat": 4,
 "nbformat_minor": 4
}
