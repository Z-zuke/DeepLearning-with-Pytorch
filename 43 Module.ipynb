{
 "cells": [
  {
   "cell_type": "code",
   "execution_count": 1,
   "metadata": {
    "ExecuteTime": {
     "end_time": "2020-04-18T11:50:03.449285Z",
     "start_time": "2020-04-18T11:50:03.445085Z"
    }
   },
   "outputs": [],
   "source": [
    "import torch\n",
    "from torch import nn\n",
    "from torch import optim"
   ]
  },
  {
   "cell_type": "code",
   "execution_count": 2,
   "metadata": {
    "ExecuteTime": {
     "end_time": "2020-04-18T11:52:50.484053Z",
     "start_time": "2020-04-18T11:52:50.476047Z"
    }
   },
   "outputs": [],
   "source": [
    "class MyLinear(nn.Module):\n",
    "    \n",
    "    def __init__(self,inp,outp):\n",
    "        super(MyLinear,self).__init__()\n",
    "        \n",
    "        # requires_grad=True\n",
    "        self.w=nn.Parameter(torch.randn(outp,inp))\n",
    "        self.b=nn.Parameter(torch.randn(outp))\n",
    "        \n",
    "    def forward(self,x):\n",
    "        x=x @ self.w.t() + self.b\n",
    "        return x"
   ]
  },
  {
   "cell_type": "code",
   "execution_count": 3,
   "metadata": {
    "ExecuteTime": {
     "end_time": "2020-04-18T11:54:48.001832Z",
     "start_time": "2020-04-18T11:54:47.993657Z"
    }
   },
   "outputs": [],
   "source": [
    "class Flatten(nn.Module):\n",
    "    \n",
    "    def __init__(self):\n",
    "        super(Flatten,self).__init__()\n",
    "        \n",
    "    def forward(self,input):\n",
    "        return input.view(input.size(0),-1)"
   ]
  },
  {
   "cell_type": "code",
   "execution_count": 4,
   "metadata": {
    "ExecuteTime": {
     "end_time": "2020-04-18T11:57:34.977302Z",
     "start_time": "2020-04-18T11:57:34.969026Z"
    }
   },
   "outputs": [],
   "source": [
    "class TestNet(nn.Module):\n",
    "    \n",
    "    def __init__(self):\n",
    "        super(TestNet,self).__init__()\n",
    "        \n",
    "        self.net=nn.Sequential(\n",
    "            nn.Conv2d(1,16,stride=1,padding=1),\n",
    "            nn.MaxPool2d(2,2),\n",
    "            Flatten(),\n",
    "            nn.Linear(1*14*14,10)\n",
    "        )\n",
    "        \n",
    "    def forward(self,x):\n",
    "        return self.net(x)"
   ]
  },
  {
   "cell_type": "code",
   "execution_count": 5,
   "metadata": {
    "ExecuteTime": {
     "end_time": "2020-04-18T11:58:56.849896Z",
     "start_time": "2020-04-18T11:58:56.844918Z"
    }
   },
   "outputs": [],
   "source": [
    "class BasicNet(nn.Module):\n",
    "    \n",
    "    def __init__(self):\n",
    "        super(BasicNet,self).__init__()\n",
    "        \n",
    "        self.net=nn.Linear(4,3)\n",
    "        \n",
    "    def forward(self,x):\n",
    "        return self.net(x)"
   ]
  },
  {
   "cell_type": "code",
   "execution_count": 6,
   "metadata": {
    "ExecuteTime": {
     "end_time": "2020-04-18T12:00:59.187183Z",
     "start_time": "2020-04-18T12:00:59.180176Z"
    }
   },
   "outputs": [],
   "source": [
    "class Net(nn.Module):\n",
    "    \n",
    "    def __init__(self):\n",
    "        super(Net,self).__init__()\n",
    "        \n",
    "        self.net=nn.Sequential(\n",
    "            BasicNet(),\n",
    "            nn.ReLU(),\n",
    "            nn.Linear(3,2)\n",
    "        )\n",
    "        \n",
    "    def forward(self,x):\n",
    "        return self.net(x)"
   ]
  },
  {
   "cell_type": "code",
   "execution_count": 7,
   "metadata": {
    "ExecuteTime": {
     "end_time": "2020-04-18T12:05:37.770551Z",
     "start_time": "2020-04-18T12:05:37.765812Z"
    }
   },
   "outputs": [],
   "source": [
    "def main():\n",
    "    device=torch.device('cuda')\n",
    "    \n",
    "    net=Net()\n",
    "    net.to(device)\n",
    "    \n",
    "    net.train()\n",
    "    \n",
    "    net.eval()\n",
    "    \n",
    "#     net.load_state_dict(torch.load('ckpt.mdl'))\n",
    "#     torch.save(net.state_dict(),'ckpt.mdl')\n",
    "    \n",
    "    for name,t in net.named_parameters():\n",
    "        print('parameters:',name,t.shape)\n",
    "        \n",
    "    for name,m in net.named_children():\n",
    "        print('\\nchildren:',name,m)\n",
    "        \n",
    "    for name,m in net.named_modules():\n",
    "        print('\\nmodules:',name,m)"
   ]
  },
  {
   "cell_type": "code",
   "execution_count": 8,
   "metadata": {
    "ExecuteTime": {
     "end_time": "2020-04-18T12:05:58.401447Z",
     "start_time": "2020-04-18T12:05:56.393730Z"
    }
   },
   "outputs": [
    {
     "name": "stdout",
     "output_type": "stream",
     "text": [
      "parameters: net.0.net.weight torch.Size([3, 4])\n",
      "parameters: net.0.net.bias torch.Size([3])\n",
      "parameters: net.2.weight torch.Size([2, 3])\n",
      "parameters: net.2.bias torch.Size([2])\n",
      "\n",
      "children: net Sequential(\n",
      "  (0): BasicNet(\n",
      "    (net): Linear(in_features=4, out_features=3, bias=True)\n",
      "  )\n",
      "  (1): ReLU()\n",
      "  (2): Linear(in_features=3, out_features=2, bias=True)\n",
      ")\n",
      "\n",
      "modules:  Net(\n",
      "  (net): Sequential(\n",
      "    (0): BasicNet(\n",
      "      (net): Linear(in_features=4, out_features=3, bias=True)\n",
      "    )\n",
      "    (1): ReLU()\n",
      "    (2): Linear(in_features=3, out_features=2, bias=True)\n",
      "  )\n",
      ")\n",
      "\n",
      "modules: net Sequential(\n",
      "  (0): BasicNet(\n",
      "    (net): Linear(in_features=4, out_features=3, bias=True)\n",
      "  )\n",
      "  (1): ReLU()\n",
      "  (2): Linear(in_features=3, out_features=2, bias=True)\n",
      ")\n",
      "\n",
      "modules: net.0 BasicNet(\n",
      "  (net): Linear(in_features=4, out_features=3, bias=True)\n",
      ")\n",
      "\n",
      "modules: net.0.net Linear(in_features=4, out_features=3, bias=True)\n",
      "\n",
      "modules: net.1 ReLU()\n",
      "\n",
      "modules: net.2 Linear(in_features=3, out_features=2, bias=True)\n"
     ]
    }
   ],
   "source": [
    "if __name__=='__main__':\n",
    "    main()"
   ]
  }
 ],
 "metadata": {
  "kernelspec": {
   "display_name": "Python 3",
   "language": "python",
   "name": "python3"
  },
  "language_info": {
   "codemirror_mode": {
    "name": "ipython",
    "version": 3
   },
   "file_extension": ".py",
   "mimetype": "text/x-python",
   "name": "python",
   "nbconvert_exporter": "python",
   "pygments_lexer": "ipython3",
   "version": "3.6.10"
  }
 },
 "nbformat": 4,
 "nbformat_minor": 4
}
