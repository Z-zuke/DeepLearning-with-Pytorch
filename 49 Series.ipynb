{
 "cells": [
  {
   "cell_type": "code",
   "execution_count": 1,
   "metadata": {
    "ExecuteTime": {
     "end_time": "2020-04-20T02:18:42.499495Z",
     "start_time": "2020-04-20T02:18:41.393171Z"
    }
   },
   "outputs": [],
   "source": [
    "import numpy as np\n",
    "import torch\n",
    "import torch.nn as nn\n",
    "import torch.optim as optim\n",
    "import matplotlib.pyplot as plt"
   ]
  },
  {
   "cell_type": "code",
   "execution_count": 2,
   "metadata": {
    "ExecuteTime": {
     "end_time": "2020-04-20T02:18:42.514454Z",
     "start_time": "2020-04-20T02:18:42.508470Z"
    }
   },
   "outputs": [],
   "source": [
    "num_time_steps=50\n",
    "input_size=1\n",
    "hidden_size=16\n",
    "output_size=1 \n",
    "lr=0.01"
   ]
  },
  {
   "cell_type": "code",
   "execution_count": 3,
   "metadata": {
    "ExecuteTime": {
     "end_time": "2020-04-20T02:18:42.534401Z",
     "start_time": "2020-04-20T02:18:42.519442Z"
    }
   },
   "outputs": [],
   "source": [
    "class Net(nn.Module):\n",
    "    \n",
    "    def __init__(self):\n",
    "        super(Net,self).__init__()\n",
    "        \n",
    "        self.rnn=nn.RNN(\n",
    "            input_size=input_size,\n",
    "            hidden_size=hidden_size,\n",
    "            num_layers=1,\n",
    "            batch_first=True\n",
    "        )\n",
    "        for p in self.rnn.parameters():\n",
    "            nn.init.normal_(p,mean=0.0,std=0.001)\n",
    "        \n",
    "        self.linear=nn.Linear(hidden_size,output_size)\n",
    "        \n",
    "    def forward(self,x,hidden_prev):\n",
    "        out,hidden_prev=self.rnn(x,hidden_prev)\n",
    "        # [b, seq, h]\n",
    "        out=out.view(-1,hidden_size)\n",
    "        out=self.linear(out)\n",
    "        out=out.unsqueeze(dim=0)\n",
    "        \n",
    "        return out,hidden_prev"
   ]
  },
  {
   "cell_type": "code",
   "execution_count": 4,
   "metadata": {
    "ExecuteTime": {
     "end_time": "2020-04-20T02:20:09.088497Z",
     "start_time": "2020-04-20T02:18:42.540385Z"
    },
    "scrolled": true
   },
   "outputs": [
    {
     "name": "stdout",
     "output_type": "stream",
     "text": [
      "Iteration=0 loss=0.47940000891685486\n",
      "Iteration=100 loss=0.008510861545801163\n",
      "Iteration=200 loss=0.0009589878609403968\n",
      "Iteration=300 loss=0.009883083403110504\n",
      "Iteration=400 loss=0.00198404211550951\n",
      "Iteration=500 loss=0.006550194229930639\n",
      "Iteration=600 loss=0.0010130669688805938\n",
      "Iteration=700 loss=0.0005218507722020149\n",
      "Iteration=800 loss=0.00025030694087035954\n",
      "Iteration=900 loss=0.00022797132260166109\n",
      "Iteration=1000 loss=0.0003024058823939413\n",
      "Iteration=1100 loss=0.0004765636404044926\n",
      "Iteration=1200 loss=0.002410631161183119\n",
      "Iteration=1300 loss=0.0004073843010701239\n",
      "Iteration=1400 loss=0.0002904749126173556\n",
      "Iteration=1500 loss=0.0007654873770661652\n",
      "Iteration=1600 loss=0.0007459009066224098\n",
      "Iteration=1700 loss=0.0003234698378946632\n",
      "Iteration=1800 loss=0.0005296524032019079\n",
      "Iteration=1900 loss=0.0005655269487760961\n",
      "Iteration=2000 loss=0.0006897415150888264\n",
      "Iteration=2100 loss=0.0016718984115868807\n",
      "Iteration=2200 loss=0.0003761615662369877\n",
      "Iteration=2300 loss=0.00034247752046212554\n",
      "Iteration=2400 loss=6.997845048317686e-05\n",
      "Iteration=2500 loss=0.0009633240988478065\n",
      "Iteration=2600 loss=0.00083705666474998\n",
      "Iteration=2700 loss=0.0003603958466555923\n",
      "Iteration=2800 loss=0.0005111172213219106\n",
      "Iteration=2900 loss=0.0004059822822455317\n",
      "Iteration=3000 loss=0.0003330721228849143\n",
      "Iteration=3100 loss=5.282268830342218e-05\n",
      "Iteration=3200 loss=0.00018792432092595845\n",
      "Iteration=3300 loss=0.00013442013005260378\n",
      "Iteration=3400 loss=0.00022114769672043622\n",
      "Iteration=3500 loss=3.315766298328526e-05\n",
      "Iteration=3600 loss=0.0002766011457424611\n",
      "Iteration=3700 loss=0.000564921647310257\n",
      "Iteration=3800 loss=5.275829607853666e-05\n",
      "Iteration=3900 loss=0.0005206090281717479\n",
      "Iteration=4000 loss=0.0001856245071394369\n",
      "Iteration=4100 loss=0.00016547567793168128\n",
      "Iteration=4200 loss=0.00048603859613649547\n",
      "Iteration=4300 loss=0.0003117977175861597\n",
      "Iteration=4400 loss=0.0004319357394706458\n",
      "Iteration=4500 loss=9.820541163207963e-05\n",
      "Iteration=4600 loss=0.00037561962381005287\n",
      "Iteration=4700 loss=0.0006807197933085263\n",
      "Iteration=4800 loss=0.00039336387999355793\n",
      "Iteration=4900 loss=0.0005194075056351721\n",
      "Iteration=5000 loss=0.000324477645335719\n",
      "Iteration=5100 loss=0.0006396720418706536\n",
      "Iteration=5200 loss=0.00048143029562197626\n",
      "Iteration=5300 loss=0.00030183701892383397\n",
      "Iteration=5400 loss=0.0001678390835877508\n",
      "Iteration=5500 loss=0.0002163787285098806\n",
      "Iteration=5600 loss=0.0001984441769309342\n",
      "Iteration=5700 loss=0.00014035038475412875\n",
      "Iteration=5800 loss=0.0002823900431394577\n",
      "Iteration=5900 loss=0.00043880456360056996\n"
     ]
    }
   ],
   "source": [
    "model=Net()\n",
    "criteon=nn.MSELoss()\n",
    "optimizer=optim.Adam(model.parameters(),lr)\n",
    "\n",
    "hidden_prev=torch.zeros(1,1,hidden_size)\n",
    "\n",
    "for iter in range(6000):\n",
    "    start=np.random.randint(3,size=1)[0]\n",
    "    time_steps=np.linspace(start,start+10,num_time_steps)\n",
    "    \n",
    "    data=np.sin(time_steps)\n",
    "    data=data.reshape(num_time_steps,1)\n",
    "    x=torch.tensor(data[:-1]).float().view(1,num_time_steps-1,1)\n",
    "    y=torch.tensor(data[1:]).float().view(1,num_time_steps-1,1)\n",
    "    \n",
    "    output,hidden_prev=model(x,hidden_prev)\n",
    "    hidden_prev=hidden_prev.detach()\n",
    "    \n",
    "    loss=criteon(output,y)\n",
    "    model.zero_grad()\n",
    "    loss.backward()\n",
    "    # Gradient Clipping\n",
    "#     for p in model.paramaters():\n",
    "#         print(p.grad.norm())\n",
    "#     torch.nn.utils.clip_grad_norm_(p,10)\n",
    "    optimizer.step()\n",
    "    \n",
    "    if iter % 100 ==0:\n",
    "        print('Iteration={} loss={}'.format(iter,loss.item()))"
   ]
  },
  {
   "cell_type": "code",
   "execution_count": 5,
   "metadata": {
    "ExecuteTime": {
     "end_time": "2020-04-20T02:24:37.867123Z",
     "start_time": "2020-04-20T02:24:37.570916Z"
    }
   },
   "outputs": [
    {
     "data": {
      "text/plain": [
       "<matplotlib.collections.PathCollection at 0x1a243c4b278>"
      ]
     },
     "execution_count": 5,
     "metadata": {},
     "output_type": "execute_result"
    },
    {
     "data": {
      "text/plain": [
       "[<matplotlib.lines.Line2D at 0x1a2434a5a20>]"
      ]
     },
     "execution_count": 5,
     "metadata": {},
     "output_type": "execute_result"
    },
    {
     "data": {
      "text/plain": [
       "<matplotlib.collections.PathCollection at 0x1a243a9eda0>"
      ]
     },
     "execution_count": 5,
     "metadata": {},
     "output_type": "execute_result"
    },
    {
     "data": {
      "image/png": "[encoded data removed]",
      "text/plain": [
       "<Figure size 432x288 with 1 Axes>"
      ]
     },
     "metadata": {
      "needs_background": "light"
     },
     "output_type": "display_data"
    }
   ],
   "source": [
    "start = np.random.randint(3, size=1)[0]\n",
    "time_steps = np.linspace(start, start + 10, num_time_steps)\n",
    "data = np.sin(time_steps)\n",
    "data = data.reshape(num_time_steps, 1)\n",
    "x = torch.tensor(data[:-1]).float().view(1, num_time_steps - 1, 1)\n",
    "y = torch.tensor(data[1:]).float().view(1, num_time_steps - 1, 1)\n",
    "\n",
    "predictions=[]\n",
    "input =x[:,0,:]\n",
    "for _ in range(x.shape[1]):\n",
    "    input=input.view(1,1,1)\n",
    "    (pred,hidden_prev)=model(input,hidden_prev)\n",
    "    input=pred\n",
    "    predictions.append(pred.detach().numpy().ravel()[0])\n",
    "\n",
    "x=x.data.numpy().ravel()\n",
    "y=y.data.numpy()\n",
    "\n",
    "plt.scatter(time_steps[:-1],x.ravel(),s=90)\n",
    "plt.plot(time_steps[:-1],x.ravel())\n",
    "plt.scatter(time_steps[1:],predictions)\n",
    "plt.show()"
   ]
  }
 ],
 "metadata": {
  "kernelspec": {
   "display_name": "Python 3",
   "language": "python",
   "name": "python3"
  },
  "language_info": {
   "codemirror_mode": {
    "name": "ipython",
    "version": 3
   },
   "file_extension": ".py",
   "mimetype": "text/x-python",
   "name": "python",
   "nbconvert_exporter": "python",
   "pygments_lexer": "ipython3",
   "version": "3.6.10"
  }
 },
 "nbformat": 4,
 "nbformat_minor": 4
}
