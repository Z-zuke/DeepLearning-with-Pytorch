{
 "cells": [
  {
   "cell_type": "code",
   "execution_count": 11,
   "metadata": {
    "ExecuteTime": {
     "end_time": "2020-05-11T01:35:40.640075Z",
     "start_time": "2020-05-11T01:35:40.635694Z"
    }
   },
   "outputs": [],
   "source": [
    "import torch\n",
    "from torch import nn,optim\n",
    "from torch.utils.data import DataLoader\n",
    "from torchvision import datasets,transforms\n",
    "import matplotlib.pyplot as plt"
   ]
  },
  {
   "cell_type": "code",
   "execution_count": 9,
   "metadata": {
    "ExecuteTime": {
     "end_time": "2020-05-11T01:15:01.516019Z",
     "start_time": "2020-05-11T01:15:01.505315Z"
    }
   },
   "outputs": [
    {
     "data": {
      "text/plain": [
       "<torch._C.Generator at 0x15607beae10>"
      ]
     },
     "execution_count": 9,
     "metadata": {},
     "output_type": "execute_result"
    }
   ],
   "source": [
    "torch.manual_seed(666)  # reproducible\n",
    "\n",
    "# Hyper Parameters\n",
    "epochs = 1\n",
    "batchsz = 64\n",
    "TIME_STEP = 28 \n",
    "INPUT_SIZE = 28 \n",
    "learning_rate = 1e-2"
   ]
  },
  {
   "cell_type": "code",
   "execution_count": 18,
   "metadata": {
    "ExecuteTime": {
     "end_time": "2020-05-11T02:12:58.127077Z",
     "start_time": "2020-05-11T02:12:58.052084Z"
    }
   },
   "outputs": [],
   "source": [
    "train_db=datasets.MNIST('./data/mnist_data/',train=True,download=True,\n",
    "                          transform=transforms.ToTensor())\n",
    "train_data=DataLoader(dataset=train_db,batch_size=batchsz,shuffle=True)\n",
    "\n",
    "test_db=datasets.MNIST('./data/mnist_data/',train=False,download=True,\n",
    "                          transform=transforms.ToTensor())\n",
    "test_x = test_db.data.type(torch.FloatTensor)[:2000]/255.   # shape (2000, 28, 28) value in range(0,1)\n",
    "test_y = test_db.targets.numpy()[:2000]    # covert to numpy array"
   ]
  },
  {
   "cell_type": "code",
   "execution_count": 8,
   "metadata": {
    "ExecuteTime": {
     "end_time": "2020-05-11T01:12:45.707936Z",
     "start_time": "2020-05-11T01:12:45.537895Z"
    }
   },
   "outputs": [
    {
     "name": "stdout",
     "output_type": "stream",
     "text": [
      "torch.Size([60000, 28, 28])\n",
      "torch.Size([60000])\n"
     ]
    },
    {
     "data": {
      "text/plain": [
       "<matplotlib.image.AxesImage at 0x1561fe102b0>"
      ]
     },
     "execution_count": 8,
     "metadata": {},
     "output_type": "execute_result"
    },
    {
     "data": {
      "text/plain": [
       "Text(0.5, 1.0, '5')"
      ]
     },
     "execution_count": 8,
     "metadata": {},
     "output_type": "execute_result"
    },
    {
     "data": {
      "image/png": "[encoded data removed]",
      "text/plain": [
       "<Figure size 432x288 with 1 Axes>"
      ]
     },
     "metadata": {
      "needs_background": "light"
     },
     "output_type": "display_data"
    }
   ],
   "source": [
    "# plot one example\n",
    "# x,label = iter(train_db).next()\n",
    "print(train_db.data.size())  # (60000, 28, 28)\n",
    "print(train_db.targets.size())  # (60000)\n",
    "plt.imshow(train_db.data[0].numpy(),cmap='gray')\n",
    "plt.title('%i' % train_db.targets[0])\n",
    "plt.show()"
   ]
  },
  {
   "cell_type": "code",
   "execution_count": 10,
   "metadata": {
    "ExecuteTime": {
     "end_time": "2020-05-11T01:33:41.765107Z",
     "start_time": "2020-05-11T01:33:41.757019Z"
    }
   },
   "outputs": [],
   "source": [
    "class RNN(nn.Module):\n",
    "    \n",
    "    def __init__(self):\n",
    "        super(RNN,self).__init__()\n",
    "        \n",
    "        self.rnn = nn.LSTM(\n",
    "            input_size = INPUT_SIZE,\n",
    "            hidden_size = 64,\n",
    "            num_layers = 1,\n",
    "            batch_first = True,  # input & output will has batch size as 1s dimension. e.g. (batch, time_step, input_size)\n",
    "        )\n",
    "        \n",
    "        self.fc = nn.Linear(64,10)\n",
    "        \n",
    "    def forward(self,x):\n",
    "        # x shape = (batch, time_step, input_size)\n",
    "        # r_out shape = (batch, time_step, output_size)\n",
    "        # h_n shape = (n_layers, batch, hidden_size)\n",
    "        # h_c shape = (n_layers, batch, hidden_size)\n",
    "        r_out,(h_n,h_c) = self.rnn(x,None)  # None represents zero initial hidden state\n",
    "        \n",
    "        # choose r_out at last time step\n",
    "        out = self.fc(r_out[:,-1,:])\n",
    "        return out"
   ]
  },
  {
   "cell_type": "code",
   "execution_count": 12,
   "metadata": {
    "ExecuteTime": {
     "end_time": "2020-05-11T01:36:26.260991Z",
     "start_time": "2020-05-11T01:36:26.249932Z"
    }
   },
   "outputs": [
    {
     "name": "stdout",
     "output_type": "stream",
     "text": [
      "RNN(\n",
      "  (rnn): LSTM(28, 64, batch_first=True)\n",
      "  (fc): Linear(in_features=64, out_features=10, bias=True)\n",
      ")\n"
     ]
    }
   ],
   "source": [
    "rnn = RNN()\n",
    "print(rnn)\n",
    "\n",
    "optimizer = optim.Adam(rnn.parameters(),lr=learning_rate)\n",
    "criterion = nn.CrossEntropyLoss()"
   ]
  },
  {
   "cell_type": "code",
   "execution_count": 19,
   "metadata": {
    "ExecuteTime": {
     "end_time": "2020-05-11T02:17:38.958138Z",
     "start_time": "2020-05-11T02:16:08.804337Z"
    }
   },
   "outputs": [
    {
     "name": "stdout",
     "output_type": "stream",
     "text": [
      "Epoch:  0 | train loss: 0.3495 | test accuracy: 0.83\n",
      "Epoch:  0 | train loss: 0.4439 | test accuracy: 0.83\n",
      "Epoch:  0 | train loss: 0.3633 | test accuracy: 0.90\n",
      "Epoch:  0 | train loss: 0.2231 | test accuracy: 0.91\n",
      "Epoch:  0 | train loss: 0.3863 | test accuracy: 0.90\n",
      "Epoch:  0 | train loss: 0.3121 | test accuracy: 0.92\n",
      "Epoch:  0 | train loss: 0.1172 | test accuracy: 0.92\n",
      "Epoch:  0 | train loss: 0.2029 | test accuracy: 0.93\n",
      "Epoch:  0 | train loss: 0.3967 | test accuracy: 0.95\n",
      "Epoch:  0 | train loss: 0.1767 | test accuracy: 0.94\n",
      "Epoch:  0 | train loss: 0.1434 | test accuracy: 0.94\n",
      "Epoch:  0 | train loss: 0.1667 | test accuracy: 0.93\n",
      "Epoch:  0 | train loss: 0.0945 | test accuracy: 0.94\n",
      "Epoch:  0 | train loss: 0.0993 | test accuracy: 0.96\n",
      "Epoch:  0 | train loss: 0.1506 | test accuracy: 0.95\n",
      "Epoch:  0 | train loss: 0.0800 | test accuracy: 0.95\n",
      "Epoch:  0 | train loss: 0.2226 | test accuracy: 0.95\n",
      "Epoch:  0 | train loss: 0.1781 | test accuracy: 0.96\n",
      "Epoch:  0 | train loss: 0.1372 | test accuracy: 0.94\n"
     ]
    }
   ],
   "source": [
    "for epoch in range(epochs):\n",
    "    \n",
    "    for step,(b_x,b_y) in enumerate(train_data):\n",
    "        b_x = b_x.view(-1,28,28)\n",
    "        \n",
    "        output = rnn(b_x)\n",
    "        loss = criterion(output,b_y)\n",
    "        \n",
    "        optimizer.zero_grad()  # clear gradients for this training step\n",
    "        loss.backward()        # backpropagation, compute gradients\n",
    "        optimizer.step()       # apply gradients\n",
    "        \n",
    "        if step % 50 ==0:\n",
    "            test_output = rnn(test_x)   # (samples, time_step, input_size)\n",
    "            pred_y = torch.max(test_output,1)[1].data.numpy()\n",
    "            accuracy = float((pred_y == test_y).astype(int).sum()) / float(test_y.size)\n",
    "            print('Epoch: ', epoch, '| train loss: %.4f' % loss.data.numpy(), \n",
    "                  '| test accuracy: %.2f' % accuracy)"
   ]
  },
  {
   "cell_type": "code",
   "execution_count": 22,
   "metadata": {
    "ExecuteTime": {
     "end_time": "2020-05-11T02:20:06.071690Z",
     "start_time": "2020-05-11T02:20:06.056374Z"
    }
   },
   "outputs": [
    {
     "name": "stdout",
     "output_type": "stream",
     "text": [
      "[7 2 1 0 4 1 4 9 5 9] prediction number\n",
      "[7 2 1 0 4 1 4 9 5 9] real number\n"
     ]
    }
   ],
   "source": [
    "# print 10 predictions from test data\n",
    "test_output = rnn(test_x[:10].view(-1,28,28))\n",
    "pred_y = torch.max(test_output,1)[1].data.numpy()\n",
    "print(pred_y, 'prediction number')\n",
    "print(test_y[:10], 'real number')"
   ]
  }
 ],
 "metadata": {
  "kernelspec": {
   "display_name": "Python 3",
   "language": "python",
   "name": "python3"
  },
  "language_info": {
   "codemirror_mode": {
    "name": "ipython",
    "version": 3
   },
   "file_extension": ".py",
   "mimetype": "text/x-python",
   "name": "python",
   "nbconvert_exporter": "python",
   "pygments_lexer": "ipython3",
   "version": "3.6.10"
  }
 },
 "nbformat": 4,
 "nbformat_minor": 4
}
