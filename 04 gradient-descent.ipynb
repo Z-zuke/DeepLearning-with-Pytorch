{
 "cells": [
  {
   "cell_type": "code",
   "execution_count": 1,
   "metadata": {
    "ExecuteTime": {
     "end_time": "2020-04-07T06:40:26.275775Z",
     "start_time": "2020-04-07T06:40:25.989478Z"
    }
   },
   "outputs": [],
   "source": [
    "import numpy as np"
   ]
  },
  {
   "cell_type": "markdown",
   "metadata": {},
   "source": [
    "** y = wx + b **"
   ]
  },
  {
   "cell_type": "code",
   "execution_count": 2,
   "metadata": {
    "ExecuteTime": {
     "end_time": "2020-04-07T06:44:06.163459Z",
     "start_time": "2020-04-07T06:44:06.156475Z"
    }
   },
   "outputs": [],
   "source": [
    "def computer_error(b,w,points):\n",
    "    totalError=0 \n",
    "    for i in range(0,len(points)):\n",
    "        x=points[i,0]\n",
    "        y=points[i,1]\n",
    "        totalError+=(y-(w*x+b))**2\n",
    "    return totalError/float(len(points))"
   ]
  },
  {
   "cell_type": "code",
   "execution_count": 3,
   "metadata": {
    "ExecuteTime": {
     "end_time": "2020-04-07T06:49:07.035418Z",
     "start_time": "2020-04-07T06:49:07.026443Z"
    }
   },
   "outputs": [],
   "source": [
    "def step_gradient(b_cur,w_cur,points,lr):\n",
    "    b_grad=0 \n",
    "    w_grad=0 \n",
    "    N=float(len(points))\n",
    "    for i in range(0,len(points)):\n",
    "        x=points[i,0]\n",
    "        y=points[i,1]\n",
    "        b_grad+=-(2/N)*(y-((w_cur*x)+b_cur))\n",
    "        w_grad+=-(2/N)*x*(y-((w_cur*x)+b_cur))\n",
    "    new_b=b_cur-(lr*b_grad)\n",
    "    new_w=w_cur-(lr*w_grad)\n",
    "    return [new_b,new_w]"
   ]
  },
  {
   "cell_type": "code",
   "execution_count": 4,
   "metadata": {
    "ExecuteTime": {
     "end_time": "2020-04-07T06:51:12.478444Z",
     "start_time": "2020-04-07T06:51:12.473421Z"
    }
   },
   "outputs": [],
   "source": [
    "def gradient_descent(points,start_b,start_w,lr,num_iter):\n",
    "    b=start_b\n",
    "    w=start_w\n",
    "    for i in range(num_iter):\n",
    "        b,w=step_gradient(b,w,np.array(points),lr)\n",
    "    return [b,w]"
   ]
  },
  {
   "cell_type": "code",
   "execution_count": 5,
   "metadata": {
    "ExecuteTime": {
     "end_time": "2020-04-07T06:59:02.337163Z",
     "start_time": "2020-04-07T06:59:02.332204Z"
    }
   },
   "outputs": [],
   "source": [
    "def main():\n",
    "    points=np.genfromtxt('data/data.csv',delimiter=',')\n",
    "    lr=0.0001\n",
    "    init_b=0 \n",
    "    init_w=0 \n",
    "    num_iter=1000\n",
    "    print('Starting gradient descent at b={0}, w={1}, error={2}'\n",
    "         .format(init_b,init_w,computer_error(init_b,init_w,points)))\n",
    "    print('Running...')\n",
    "    [b,w]=gradient_descent(points,init_b,init_w,lr,num_iter)\n",
    "    print('After {0} iterations b={1}, w={2}, error={3}'\n",
    "         .format(num_iter,b,w,computer_error(b,w,points)))"
   ]
  },
  {
   "cell_type": "code",
   "execution_count": 6,
   "metadata": {
    "ExecuteTime": {
     "end_time": "2020-04-07T06:59:31.390671Z",
     "start_time": "2020-04-07T06:59:31.174196Z"
    }
   },
   "outputs": [
    {
     "name": "stdout",
     "output_type": "stream",
     "text": [
      "Starting gradient descent at b=0, w=0, error=5565.107834483211\n",
      "Running...\n",
      "After 1000 iterations b=0.08893651993741346, w=1.4777440851894448, error=112.61481011613473\n"
     ]
    }
   ],
   "source": [
    "if __name__=='__main__':\n",
    "    main()"
   ]
  }
 ],
 "metadata": {
  "kernelspec": {
   "display_name": "Python 3",
   "language": "python",
   "name": "python3"
  },
  "language_info": {
   "codemirror_mode": {
    "name": "ipython",
    "version": 3
   },
   "file_extension": ".py",
   "mimetype": "text/x-python",
   "name": "python",
   "nbconvert_exporter": "python",
   "pygments_lexer": "ipython3",
   "version": "3.6.10"
  }
 },
 "nbformat": 4,
 "nbformat_minor": 4
}
